{
 "cells": [
  {
   "cell_type": "code",
   "execution_count": 13,
   "id": "8fe26f67",
   "metadata": {},
   "outputs": [],
   "source": [
    "import pickle"
   ]
  },
  {
   "cell_type": "code",
   "execution_count": 14,
   "id": "569af7b1",
   "metadata": {},
   "outputs": [],
   "source": [
    "import torch"
   ]
  },
  {
   "cell_type": "code",
   "execution_count": 15,
   "id": "73328d2c",
   "metadata": {},
   "outputs": [],
   "source": [
    "import math"
   ]
  },
  {
   "cell_type": "code",
   "execution_count": 9,
   "id": "b0cb5929",
   "metadata": {},
   "outputs": [],
   "source": [
    "with open('../test_records/hmdb51/ViT-B/32/clip_one_temporal/cls_feature','rb') as f:\n",
    "    hmdb51=pickle.load(f)"
   ]
  },
  {
   "cell_type": "code",
   "execution_count": 17,
   "id": "18af7ae0",
   "metadata": {},
   "outputs": [],
   "source": [
    "with open('../lists/k400_cls_feas512_vitb_32','rb') as f:\n",
    "    k400=pickle.load(f)"
   ]
  },
  {
   "cell_type": "code",
   "execution_count": 3,
   "id": "6122b350",
   "metadata": {},
   "outputs": [],
   "source": [
    "with open('../test_records/hmdb51/ViT-B/32/clip_one_temporal/video_features','rb') as f:\n",
    "    video_hmdb51=pickle.load(f)"
   ]
  },
  {
   "cell_type": "code",
   "execution_count": 4,
   "id": "62063410",
   "metadata": {},
   "outputs": [],
   "source": [
    "with open('../test_records/hmdb51/ViT-B/32/clip_before_one_temporal/video_features','rb') as f:\n",
    "    before_video_hmdb51=pickle.load(f)"
   ]
  },
  {
   "cell_type": "code",
   "execution_count": 170,
   "id": "b8fe477d",
   "metadata": {},
   "outputs": [],
   "source": [
    "# with open('../test_records/hmdb51/ViT-L/14/front_lay/video_features','rb') as f:\n",
    "#     before_video_hmdb51=pickle.load(f)"
   ]
  },
  {
   "cell_type": "code",
   "execution_count": 5,
   "id": "8dd93da1",
   "metadata": {},
   "outputs": [],
   "source": [
    "with open('../test_records/hmdb51/ViT-B/32/clip_one_temporal/pre_labels','rb') as f:\n",
    "    labels_hmdb51=pickle.load(f)"
   ]
  },
  {
   "cell_type": "code",
   "execution_count": 291,
   "id": "3016677b",
   "metadata": {},
   "outputs": [],
   "source": [
    "with open('../test_records/hmdb51/ViT-L/14/no_temporal/video_features','rb') as f:\n",
    "    before_labels_hmdb51=pickle.load(f)"
   ]
  },
  {
   "cell_type": "code",
   "execution_count": 390,
   "id": "0af21a31",
   "metadata": {},
   "outputs": [],
   "source": [
    "with open('../lists/ucf101_cls_feas512_vitb_32_org','rb') as f:\n",
    "    ucf101_org=pickle.load(f)"
   ]
  },
  {
   "cell_type": "code",
   "execution_count": 16,
   "id": "dd5cd5a0",
   "metadata": {},
   "outputs": [],
   "source": [
    "with open('../test_records/hmdb51/ViT-B/32/learnable_orth_e3/cls_feature','rb') as f:\n",
    "    hmdb51=pickle.load(f)\n",
    "with open('../test_records/hmdb51/ViT-B/32/learnable_orth_e3/video_features','rb') as f:\n",
    "    video_hmdb51=pickle.load(f)\n",
    "with open('../test_records/hmdb51/ViT-B/32/learnable_orth_e3/before_video_features','rb') as f:\n",
    "    before_video_hmdb51=pickle.load(f)\n",
    "with open('../test_records/hmdb51/ViT-B/32/learnable_orth_e3/pre_labels','rb') as f:\n",
    "    labels_hmdb51=pickle.load(f)"
   ]
  },
  {
   "cell_type": "code",
   "execution_count": 244,
   "id": "eaa3762a",
   "metadata": {},
   "outputs": [],
   "source": [
    "pre=(100*before_video_hmdb51@hmdb51.T).softmax(dim=-1).topk(1).indices"
   ]
  },
  {
   "cell_type": "code",
   "execution_count": 4,
   "id": "a9e2b76c",
   "metadata": {},
   "outputs": [],
   "source": [
    "with open('../test_records/ucf101/ViT-B/16/rand_e7/video_features','rb') as f:\n",
    "    video_ucf101=pickle.load(f)\n",
    "with open('../test_records/ucf101/ViT-B/16/rand_e7/before_video_features','rb') as f:\n",
    "    before_video_ucf101=pickle.load(f)\n",
    "with open('../test_records/ucf101/ViT-B/16/rand_e7/pre_labels','rb') as f:\n",
    "    labels_ucf101=pickle.load(f)\n",
    "with open('../test_records/ucf101/ViT-B/16/rand_e7/cls_feature','rb') as f:\n",
    "    ucf101=pickle.load(f)\n",
    "# with open('../lists/ucf101_cls_feas512_vitb_16','rb') as f:\n",
    "#     ucf101=pickle.load(f)"
   ]
  },
  {
   "cell_type": "code",
   "execution_count": 121,
   "id": "b7ecfa1d",
   "metadata": {},
   "outputs": [],
   "source": [
    "with open('../test_records/k400/ViT-L/14/three_loss_2ce_l2_gain_e10/video_features','rb') as f:\n",
    "    video_k400=pickle.load(f)\n",
    "with open('../test_records/k400/ViT-L/14/three_loss_2ce_l2_gain_e10/before_video_features','rb') as f:\n",
    "    before_video_k400=pickle.load(f)\n",
    "with open('../test_records/k400/ViT-L/14/three_loss_2ce_l2_gain_e10/pre_labels','rb') as f:\n",
    "    labels_k400=pickle.load(f)\n",
    "with open('../test_records/k400/ViT-L/14/three_loss_2ce_l2_gain_e10/cls_feature','rb') as f:\n",
    "    k400=pickle.load(f)"
   ]
  },
  {
   "cell_type": "code",
   "execution_count": 122,
   "id": "46508f60",
   "metadata": {},
   "outputs": [],
   "source": [
    "k400_true_label=labels_k400[:,-1]\n",
    "# ucf101_true_label=labels_ucf101[:,-1]\n",
    "k400_true_label=k400_true_label.unsqueeze(dim=1)"
   ]
  },
  {
   "cell_type": "code",
   "execution_count": 1420,
   "id": "ef9f7be9",
   "metadata": {},
   "outputs": [],
   "source": [
    "with open('../lists/ucf101_cls_feas512_vitb_32','rb') as f:\n",
    "    ucf101=pickle.load(f)"
   ]
  },
  {
   "cell_type": "code",
   "execution_count": 1417,
   "id": "b754f941",
   "metadata": {},
   "outputs": [
    {
     "data": {
      "text/plain": [
       "13276"
      ]
     },
     "execution_count": 1417,
     "metadata": {},
     "output_type": "execute_result"
    }
   ],
   "source": [
    "video_ucf101.shape[0]"
   ]
  },
  {
   "cell_type": "code",
   "execution_count": 207,
   "id": "85e952f2",
   "metadata": {},
   "outputs": [
    {
     "data": {
      "text/plain": [
       "tensor(51.)"
      ]
     },
     "execution_count": 207,
     "metadata": {},
     "output_type": "execute_result"
    }
   ],
   "source": [
    "sum(torch.norm(hmdb51,dim=1))"
   ]
  },
  {
   "cell_type": "code",
   "execution_count": 981,
   "id": "162d1ce7",
   "metadata": {},
   "outputs": [],
   "source": [
    "logit=(90.9632*(before_video_hmdb51)@hmdb51.T).softmax(dim=-1).topk(1).indices"
   ]
  },
  {
   "cell_type": "code",
   "execution_count": 982,
   "id": "82cff078",
   "metadata": {},
   "outputs": [
    {
     "data": {
      "text/plain": [
       "tensor([0.4923])"
      ]
     },
     "execution_count": 982,
     "metadata": {},
     "output_type": "execute_result"
    }
   ],
   "source": [
    "sum(logit==hmdb_true_label)/video_hmdb51.shape[0]"
   ]
  },
  {
   "cell_type": "code",
   "execution_count": 187,
   "id": "c984a781",
   "metadata": {},
   "outputs": [],
   "source": [
    "import os"
   ]
  },
  {
   "cell_type": "code",
   "execution_count": 240,
   "id": "c01cba0e",
   "metadata": {},
   "outputs": [
    {
     "data": {
      "text/plain": [
       "tensor([ 0.0022,  0.0148,  0.0101,  0.0300, -0.0107])"
      ]
     },
     "execution_count": 240,
     "metadata": {},
     "output_type": "execute_result"
    }
   ],
   "source": [
    "ucf101[0][:5]"
   ]
  },
  {
   "cell_type": "code",
   "execution_count": 227,
   "id": "bd3af34a",
   "metadata": {},
   "outputs": [],
   "source": [
    "ucf101_norm=ucf101/ucf101.norm(dim=1,keepdim=True)"
   ]
  },
  {
   "cell_type": "code",
   "execution_count": 229,
   "id": "9a370cad",
   "metadata": {},
   "outputs": [
    {
     "data": {
      "text/plain": [
       "tensor([-0.0391,  0.0037,  0.0276,  0.0179, -0.0001])"
      ]
     },
     "execution_count": 229,
     "metadata": {},
     "output_type": "execute_result"
    }
   ],
   "source": [
    "ucf101_norm[0][:5]"
   ]
  },
  {
   "cell_type": "code",
   "execution_count": 231,
   "id": "4ae493c2",
   "metadata": {},
   "outputs": [
    {
     "data": {
      "text/plain": [
       "tensor([[-0.0416,  0.0001,  0.0224,  ..., -0.0045, -0.0054, -0.0746],\n",
       "        [-0.0621, -0.0051,  0.0223,  ..., -0.0331,  0.0100, -0.0187],\n",
       "        [ 0.0096, -0.0343,  0.0317,  ..., -0.0243, -0.0102, -0.0446],\n",
       "        [-0.0645, -0.0179,  0.0326,  ...,  0.0075,  0.0019, -0.0496],\n",
       "        [-0.0726,  0.0162,  0.0776,  ..., -0.0241,  0.0360, -0.0609]])"
      ]
     },
     "execution_count": 231,
     "metadata": {},
     "output_type": "execute_result"
    }
   ],
   "source": [
    "ucf101_test1[:][:5]"
   ]
  },
  {
   "cell_type": "code",
   "execution_count": 446,
   "id": "54dbdae6",
   "metadata": {},
   "outputs": [],
   "source": [
    "def get_orthogonal_num(now_tensor,best_tensor):\n",
    "    l2sums=torch.norm(best_tensor)**2\n",
    "    ortho=(now_tensor*best_tensor)/l2sums\n",
    "    ortho*=best_tensor\n",
    "    return now_tensor-ortho+best_tensor"
   ]
  },
  {
   "cell_type": "code",
   "execution_count": 170,
   "id": "f6f4d7e0",
   "metadata": {},
   "outputs": [
    {
     "data": {
      "text/plain": [
       "tensor(10.)"
      ]
     },
     "execution_count": 170,
     "metadata": {},
     "output_type": "execute_result"
    }
   ],
   "source": [
    "a=torch.ones((1,10))"
   ]
  },
  {
   "cell_type": "code",
   "execution_count": 464,
   "id": "2cde45ee",
   "metadata": {},
   "outputs": [],
   "source": [
    "def get_orthogonal_num(now_tensor,best_tensor,true_label,cls):\n",
    "    l2sums=torch.norm(best_tensor,dim=1)**2\n",
    "    l2sums=torch.unsqueeze(l2sums,dim=1)\n",
    "    maps=(now_tensor*best_tensor)/l2sums\n",
    "    maps*=best_tensor \n",
    "    gain=now_tensor-maps\n",
    "    res=best_tensor+gain\n",
    "    pres=(res@cls.T).softmax(dim=-1).topk(1).indices\n",
    "    return sum(pres==true_label).numpy()/now_tensor.shape[0]\n",
    "    "
   ]
  },
  {
   "cell_type": "code",
   "execution_count": 5,
   "id": "8371c046",
   "metadata": {},
   "outputs": [],
   "source": [
    "def get_orthogonal_num_ration(now_tensor,best_tensor,true_label,cls,ratio):\n",
    "    l2sums=torch.norm(best_tensor,dim=1)**2\n",
    "    l2sums=torch.unsqueeze(l2sums,dim=1)\n",
    "    maps=(now_tensor*best_tensor)/l2sums\n",
    "    maps*=best_tensor \n",
    "    gain=now_tensor-maps\n",
    "    res=best_tensor+gain*ratio\n",
    "\n",
    "    pres=(res@cls.T).softmax(dim=-1).topk(1).indices\n",
    "    return sum(pres==true_label).numpy()[0]/now_tensor.shape[0]"
   ]
  },
  {
   "cell_type": "code",
   "execution_count": 362,
   "id": "40eaa69f",
   "metadata": {},
   "outputs": [],
   "source": []
  },
  {
   "cell_type": "code",
   "execution_count": 233,
   "id": "936c3ea9",
   "metadata": {},
   "outputs": [],
   "source": [
    "def get_orthogonal_num_ration_res(now_tensor,best_tensor,true_label,cls,ratio):\n",
    "    differ=now_tensor-best_tensor\n",
    "    l2sums=torch.norm(best_tensor,dim=1)**2\n",
    "    l2sums=torch.unsqueeze(l2sums,dim=1)\n",
    "    l2sums=best_tensor*best_tensor\n",
    "    maps=(differ*best_tensor)/l2sums\n",
    "    maps*=best_tensor \n",
    "    gain=differ-maps\n",
    "#     print(gain@best_tensor.T)\n",
    "    res=best_tensor+gain*ratio\n",
    "#     res/=torch.norm(res,dim=1,keepdim=True)\n",
    "    pres=(res@cls.T).softmax(dim=-1).topk(1).indices\n",
    "    return sum(pres==true_label)/now_tensor.shape[0]"
   ]
  },
  {
   "cell_type": "code",
   "execution_count": 17,
   "id": "77466c44",
   "metadata": {},
   "outputs": [],
   "source": [
    "hmdb_true_label=labels_hmdb51[:,-1]\n",
    "# ucf101_true_label=labels_ucf101[:,-1]\n",
    "hmdb_true_label=hmdb_true_label.unsqueeze(dim=1)"
   ]
  },
  {
   "cell_type": "code",
   "execution_count": 18,
   "id": "6f739bee",
   "metadata": {
    "scrolled": true
   },
   "outputs": [
    {
     "data": {
      "text/plain": [
       "[0.4966006503103754,\n",
       " 0.49704404374815253,\n",
       " 0.49527046999704405,\n",
       " 0.4929057049955661,\n",
       " 0.4898019509311262,\n",
       " 0.4855158143659474,\n",
       " 0.4828554537392847,\n",
       " 0.47886491279929055,\n",
       " 0.4753177652970736,\n",
       " 0.47117942654448713,\n",
       " 0.46659769435412357]"
      ]
     },
     "execution_count": 18,
     "metadata": {},
     "output_type": "execute_result"
    }
   ],
   "source": [
    "x=[]\n",
    "res_hmdb51_o1=[]\n",
    "# res_ucf101=[]\n",
    "for i in range(0,11):\n",
    "    ratio=i/10\n",
    "    x.append(ratio)\n",
    "#     print(ratio)\n",
    "    trueratio=get_orthogonal_num_ration(video_hmdb51,before_video_hmdb51,hmdb_true_label,hmdb51,ratio)\n",
    "#     trueratio=sum(indices==hmdb_true_label).numpy()[0]/video_hmdb51.shape[0]\n",
    "    res_hmdb51_o1.append(trueratio)\n",
    "res_hmdb51_o1"
   ]
  },
  {
   "cell_type": "code",
   "execution_count": 11,
   "id": "738f3daa",
   "metadata": {},
   "outputs": [
    {
     "data": {
      "text/plain": [
       "[0.48, 0.483, 0.481, 0.48, 0.479, 0.478, 0.474, 0.473, 0.471, 0.47, 0.471]"
      ]
     },
     "execution_count": 11,
     "metadata": {},
     "output_type": "execute_result"
    }
   ],
   "source": [
    "[round(i,3) for i in res_hmdb51_o1]"
   ]
  },
  {
   "cell_type": "code",
   "execution_count": 174,
   "id": "d72d9637",
   "metadata": {},
   "outputs": [],
   "source": [
    "res_hmdb51_2=res_hmdb51_o1"
   ]
  },
  {
   "cell_type": "code",
   "execution_count": 180,
   "id": "80e926fd",
   "metadata": {},
   "outputs": [],
   "source": [
    "res_hmdb51_3=res_hmdb51_o1"
   ]
  },
  {
   "cell_type": "code",
   "execution_count": 187,
   "id": "81e5534c",
   "metadata": {},
   "outputs": [],
   "source": [
    "res_hmdb51_1=res_hmdb51_o1"
   ]
  },
  {
   "cell_type": "code",
   "execution_count": 209,
   "id": "492cfb9e",
   "metadata": {},
   "outputs": [
    {
     "name": "stdout",
     "output_type": "stream",
     "text": [
      "tensor(13314.)\n",
      "tensor(13314.)\n",
      "tensor(13314.)\n",
      "tensor(13314.)\n",
      "tensor(13314.)\n",
      "tensor(13314.)\n",
      "tensor(13314.)\n",
      "tensor(13314.)\n",
      "tensor(13314.)\n",
      "tensor(13314.)\n",
      "tensor(13314.)\n"
     ]
    },
    {
     "data": {
      "text/plain": [
       "[0.7576235541535226,\n",
       " 0.7709929397626558,\n",
       " 0.7776776325672224,\n",
       " 0.7808322066997145,\n",
       " 0.7815081868709629,\n",
       " 0.7818086225026288,\n",
       " 0.780907315607631,\n",
       " 0.779330028541385,\n",
       " 0.7770016523959742,\n",
       " 0.775574583145561,\n",
       " 0.7745230584347303]"
      ]
     },
     "execution_count": 209,
     "metadata": {},
     "output_type": "execute_result"
    }
   ],
   "source": [
    "x=[]\n",
    "# res_hmdb51_o=[]\n",
    "res_ucf101_o=[]\n",
    "for i in range(0,11):\n",
    "    ratio=i/10\n",
    "    x.append(ratio)\n",
    "#     print(ratio)\n",
    "    trueratio=get_orthogonal_num_ration(video_ucf101,before_video_ucf101,ucf_true_label,ucf101,ratio)\n",
    "#     trueratio=sum(indices==hmdb_true_label).numpy()[0]/video_hmdb51.shape[0]\n",
    "    res_ucf101_o.append(trueratio)\n",
    "res_ucf101_o"
   ]
  },
  {
   "cell_type": "code",
   "execution_count": null,
   "id": "d7a2db2a",
   "metadata": {},
   "outputs": [],
   "source": []
  },
  {
   "cell_type": "code",
   "execution_count": 186,
   "id": "795cbe59",
   "metadata": {},
   "outputs": [],
   "source": [
    "# x=[]\n",
    "# res_k400_o=[]\n",
    "# # res_ucf101=[]\n",
    "# for i in range(0,11):\n",
    "#     ratio=i/10\n",
    "#     x.append(ratio)\n",
    "# #     print(ratio)\n",
    "#     trueratio=get_orthogonal_num_ration(video_k400,before_video_k400,k400_true_label,k400,ratio)\n",
    "# #     trueratio=sum(indices==hmdb_true_label).numpy()[0]/video_hmdb51.shape[0]\n",
    "#     res_k400_o.append(trueratio)\n",
    "# res_k400_o"
   ]
  },
  {
   "cell_type": "code",
   "execution_count": 33,
   "id": "bd48d68a",
   "metadata": {},
   "outputs": [],
   "source": [
    "def get_orthogonal_num_ration_1(now_tensor,best_tensor,true_label,cls,ratio):\n",
    "    l2sums=torch.norm(best_tensor,dim=1)**2\n",
    "    l2sums=torch.unsqueeze(l2sums,dim=1)\n",
    "    weights=(now_tensor*best_tensor).sum(dim=1)#/l2sums\n",
    "    weights=torch.sum(now_tensor*best_tensor,dim=1)\n",
    "#     print(weights.shape)\n",
    "    weights=torch.unsqueeze(weights,dim=1)\n",
    "#     print(weights.shape)\n",
    "    maps=weights*best_tensor \n",
    "    gain=now_tensor-maps\n",
    "    res=best_tensor+gain*ratio\n",
    "    pres=(res@cls.T).softmax(dim=-1).topk(1).indices\n",
    "    return sum(pres==true_label)/now_tensor.shape[0]"
   ]
  },
  {
   "cell_type": "code",
   "execution_count": 8,
   "id": "460cc35f",
   "metadata": {},
   "outputs": [],
   "source": [
    "ucf_true_label=labels_ucf101[:,-1]\n",
    "# ucf101_true_label=labels_ucf101[:,-1]\n",
    "ucf_true_label=ucf_true_label.unsqueeze(dim=1)"
   ]
  },
  {
   "cell_type": "code",
   "execution_count": 9,
   "id": "cb902510",
   "metadata": {},
   "outputs": [
    {
     "data": {
      "text/plain": [
       "[0.7981823644284212,\n",
       " 0.8176355715787893,\n",
       " 0.8237193931200241,\n",
       " 0.8253717890941866,\n",
       " 0.8252215712783536,\n",
       " 0.8234940663962746,\n",
       " 0.8210905813429473,\n",
       " 0.8180111161183716,\n",
       " 0.8157578488808773,\n",
       " 0.81335436382755,\n",
       " 0.811476641129638]"
      ]
     },
     "execution_count": 9,
     "metadata": {},
     "output_type": "execute_result"
    }
   ],
   "source": [
    "x=[]\n",
    "# res_hmdb51_o=[]\n",
    "res_ucf101_o=[]\n",
    "for i in range(0,11):\n",
    "    ratio=i/10\n",
    "    x.append(ratio)\n",
    "#     print(ratio)\n",
    "    trueratio=get_orthogonal_num_ration(video_ucf101,before_video_ucf101,ucf_true_label,ucf101,ratio)\n",
    "#     trueratio=sum(indices==hmdb_true_label).numpy()[0]/video_hmdb51.shape[0]\n",
    "    res_ucf101_o.append(trueratio)\n",
    "res_ucf101_o"
   ]
  },
  {
   "cell_type": "code",
   "execution_count": 38,
   "id": "963818de",
   "metadata": {},
   "outputs": [
    {
     "data": {
      "text/plain": [
       "[0.832657353162085,\n",
       " 0.8399429172299835,\n",
       " 0.8424966200991437,\n",
       " 0.8416704221120624,\n",
       " 0.8403184617695658,\n",
       " 0.8368634520054078,\n",
       " 0.8353612738470783,\n",
       " 0.833108006609584,\n",
       " 0.8307045215562566,\n",
       " 0.8285263632266787,\n",
       " 0.825897551449602]"
      ]
     },
     "execution_count": 38,
     "metadata": {},
     "output_type": "execute_result"
    }
   ],
   "source": [
    "res_ucf101_o"
   ]
  },
  {
   "cell_type": "code",
   "execution_count": 17,
   "id": "74664a3b",
   "metadata": {
    "scrolled": true
   },
   "outputs": [
    {
     "name": "stdout",
     "output_type": "stream",
     "text": [
      "0.756\n",
      "0.776\n",
      "0.785\n",
      "0.789\n",
      "0.791\n",
      "0.791\n",
      "0.791\n",
      "0.79\n",
      "0.789\n",
      "0.789\n",
      "0.788\n"
     ]
    }
   ],
   "source": [
    "for i in res_ucf101_o:\n",
    "    print(round(i,3))"
   ]
  },
  {
   "cell_type": "code",
   "execution_count": 353,
   "id": "86b6e952",
   "metadata": {},
   "outputs": [],
   "source": [
    "weights=(video_ucf101*before_video_ucf101).sum(dim=1)"
   ]
  },
  {
   "cell_type": "code",
   "execution_count": 360,
   "id": "031b871e",
   "metadata": {},
   "outputs": [],
   "source": [
    "weights=torch.unsqueeze(weights,dim=1)"
   ]
  },
  {
   "cell_type": "code",
   "execution_count": 361,
   "id": "84bd9c5e",
   "metadata": {},
   "outputs": [
    {
     "data": {
      "text/plain": [
       "tensor([[ 0.0056,  0.0050, -0.0173,  ...,  0.0183,  0.0061, -0.0271],\n",
       "        [ 0.0386, -0.0170, -0.0286,  ...,  0.0226, -0.0099, -0.0199],\n",
       "        [-0.0020,  0.0158, -0.0262,  ...,  0.0011,  0.0074, -0.0196],\n",
       "        ...,\n",
       "        [ 0.0468, -0.0057, -0.0335,  ...,  0.0002, -0.0096, -0.0232],\n",
       "        [-0.0046,  0.0242, -0.0405,  ..., -0.0038,  0.0106,  0.0086],\n",
       "        [ 0.0119,  0.0210, -0.0025,  ...,  0.0045, -0.0012,  0.0067]])"
      ]
     },
     "execution_count": 361,
     "metadata": {},
     "output_type": "execute_result"
    }
   ],
   "source": [
    "weights*before_video_ucf101"
   ]
  },
  {
   "cell_type": "code",
   "execution_count": null,
   "id": "6182915f",
   "metadata": {},
   "outputs": [],
   "source": [
    "72.7-->分词前"
   ]
  },
  {
   "cell_type": "code",
   "execution_count": 1275,
   "id": "ac0ffa99",
   "metadata": {},
   "outputs": [
    {
     "data": {
      "text/plain": [
       "tensor([0.4984])"
      ]
     },
     "execution_count": 1275,
     "metadata": {},
     "output_type": "execute_result"
    }
   ],
   "source": [
    "get_orthogonal_num(video_hmdb51,before_video_hmdb51,hmdb_true_label,hmdb51)"
   ]
  },
  {
   "cell_type": "code",
   "execution_count": 1179,
   "id": "379ad3e6",
   "metadata": {},
   "outputs": [
    {
     "data": {
      "text/plain": [
       "tensor([0.7841])"
      ]
     },
     "execution_count": 1179,
     "metadata": {},
     "output_type": "execute_result"
    }
   ],
   "source": [
    "get_orthogonal_num(before_video_ucf101,video_ucf101,ucf_true_label,ucf101)"
   ]
  },
  {
   "cell_type": "code",
   "execution_count": 455,
   "id": "81b37520",
   "metadata": {},
   "outputs": [
    {
     "data": {
      "text/plain": [
       "tensor([0.4864])"
      ]
     },
     "execution_count": 455,
     "metadata": {},
     "output_type": "execute_result"
    }
   ],
   "source": [
    "pres=(res@hmdb51.T).softmax(dim=-1).topk(1).indices\n",
    "sum(pres==hmdb_true_label)/video_hmdb51.shape[0]"
   ]
  },
  {
   "cell_type": "code",
   "execution_count": 447,
   "id": "f89ae9f2",
   "metadata": {},
   "outputs": [
    {
     "data": {
      "text/plain": [
       "0.48640260124150164"
      ]
     },
     "execution_count": 447,
     "metadata": {},
     "output_type": "execute_result"
    }
   ],
   "source": [
    "count=0\n",
    "for i in range(video_hmdb51.shape[0]):\n",
    "    get_ten=get_orthogonal_num(video_hmdb51[i],before_video_hmdb51[i])\n",
    "    pre=(get_ten@hmdb51.T).softmax(dim=-1).topk(1).indices\n",
    "    if pre==hmdb_true_label[i]:\n",
    "        count+=1\n",
    "count/video_hmdb51.shape[0]"
   ]
  },
  {
   "cell_type": "code",
   "execution_count": 432,
   "id": "b4170069",
   "metadata": {},
   "outputs": [
    {
     "data": {
      "text/plain": [
       "0.7559711581793601"
      ]
     },
     "execution_count": 432,
     "metadata": {},
     "output_type": "execute_result"
    }
   ],
   "source": [
    "count=0\n",
    "for i in range(video_ucf101.shape[0]):\n",
    "    get_ten=get_orthogonal_num(video_ucf101[i],before_video_ucf101[i])\n",
    "    pre=(get_ten@ucf101.T).softmax(dim=-1).topk(1).indices\n",
    "    if pre==ucf_true_label[i]:\n",
    "        count+=1\n",
    "count/video_ucf101.shape[0]"
   ]
  },
  {
   "cell_type": "code",
   "execution_count": 190,
   "id": "473db6cb",
   "metadata": {},
   "outputs": [],
   "source": [
    "count=0\n",
    "for ac in os.listdir('../../UCF_101_frame_org/'):\n",
    "    count+=len(os.listdir(os.path.join('../../UCF_101_frame_org/',ac)))"
   ]
  },
  {
   "cell_type": "code",
   "execution_count": 418,
   "id": "b09393c7",
   "metadata": {},
   "outputs": [],
   "source": [
    "a=torch.randint(1,5,(1,4))\n",
    "b=torch.randint(1,5,(1,4))"
   ]
  },
  {
   "cell_type": "code",
   "execution_count": 374,
   "id": "ef6555b1",
   "metadata": {},
   "outputs": [],
   "source": [
    "pre=pre.squeeze()"
   ]
  },
  {
   "cell_type": "code",
   "execution_count": 376,
   "id": "5e5bc19d",
   "metadata": {},
   "outputs": [
    {
     "data": {
      "text/plain": [
       "torch.Size([13314])"
      ]
     },
     "execution_count": 376,
     "metadata": {},
     "output_type": "execute_result"
    }
   ],
   "source": [
    "pre.shape"
   ]
  },
  {
   "cell_type": "code",
   "execution_count": 378,
   "id": "18907d7b",
   "metadata": {},
   "outputs": [],
   "source": [
    "loss=torch.nn.CrossEntropyLoss()"
   ]
  },
  {
   "cell_type": "code",
   "execution_count": 51,
   "id": "c3bd9d36",
   "metadata": {},
   "outputs": [],
   "source": [
    "ucf101_norm=ucf101/ucf101.norm(dim=-1,keepdim=True)"
   ]
  },
  {
   "cell_type": "code",
   "execution_count": 155,
   "id": "1f59bf85",
   "metadata": {},
   "outputs": [],
   "source": [
    "hmdb_true_label=labels_hmdb51[:,-1]\n",
    "# ucf101_true_label=labels_ucf101[:,-1]\n",
    "hmdb_true_label=hmdb_true_label.unsqueeze(dim=1)"
   ]
  },
  {
   "cell_type": "code",
   "execution_count": 156,
   "id": "8cf9c2a4",
   "metadata": {},
   "outputs": [],
   "source": [
    "ucf_true_label=labels_ucf101[:,-1]\n",
    "# ucf101_true_label=labels_ucf101[:,-1]\n",
    "ucf_true_label=ucf_true_label.unsqueeze(dim=1)"
   ]
  },
  {
   "cell_type": "code",
   "execution_count": 29,
   "id": "c331779c",
   "metadata": {},
   "outputs": [],
   "source": [
    "def get_accuracy(video_feas,cls_feas,before_video_feas,ratio):\n",
    "#     coltrain=k400_visual_center[coltrain].mean(dim=1)\n",
    "    simi_visual=(100*video_feas@cls_feas.T).softmax(dim=-1)\n",
    "    similarity=(100*before_video_feas@cls_feas.T).softmax(dim=-1)\n",
    "    \n",
    "    all_simi=ratio*simi_visual+(1-ratio)*similarity\n",
    "    indices=all_simi.softmax(dim=-1).topk(1).indices\n",
    "    return indices"
   ]
  },
  {
   "cell_type": "code",
   "execution_count": 56,
   "id": "3d811e45",
   "metadata": {},
   "outputs": [],
   "source": [
    "def get_accuracy_change(video_feas,cls_feas,before_video_feas,ratio):\n",
    "#     coltrain=k400_visual_center[coltrain].mean(dim=1)\n",
    "    video_fea_new=before_video_feas+ratio*(video_feas-before_video_feas)\n",
    "#     simi_visual=(100*video_feas@cls_feas.T).softmax(dim=-1)\n",
    "    similarity=(100*video_fea_new@cls_feas.T).softmax(dim=-1)\n",
    "    \n",
    "#     all_simi=ratio*simi_visual+(1-ratio)*similarity\n",
    "    indices=similarity.softmax(dim=-1).topk(1).indices\n",
    "    return indices"
   ]
  },
  {
   "cell_type": "code",
   "execution_count": 99,
   "id": "45fc9084",
   "metadata": {},
   "outputs": [],
   "source": [
    "def get_accuracy_near_ortho(video_feas,cls_feas,before_video_feas,ratio):\n",
    "#     coltrain=k400_visual_center[coltrain].mean(dim=1)\n",
    "#     differ=video_feas-before_video_feas\n",
    "##靠近正交部分\n",
    "    l2sums=torch.norm(before_video_feas,dim=1)**2\n",
    "    l2sums=torch.unsqueeze(l2sums,dim=1)\n",
    "    maps=(video_feas*before_video_feas)/l2sums\n",
    "    maps*=before_video_feas \n",
    "    gain=video_feas-maps\n",
    "    re_maps=maps-before_video_feas\n",
    "    \n",
    "    video_fea_new=before_video_feas+ratio*gain-0.15*ratio*re_maps\n",
    "#     simi_visual=(100*video_feas@cls_feas.T).softmax(dim=-1)\n",
    "    similarity=(100*video_fea_new@cls_feas.T).softmax(dim=-1)\n",
    "    \n",
    "#     all_simi=ratio*simi_visual+(1-ratio)*similarity\n",
    "    indices=similarity.softmax(dim=-1).topk(1).indices\n",
    "    return indices"
   ]
  },
  {
   "cell_type": "code",
   "execution_count": 144,
   "id": "07a7edaa",
   "metadata": {},
   "outputs": [],
   "source": [
    "x=[]\n",
    "res_hmdb51_c=[]\n",
    "# res_ucf101=[]\n",
    "for i in range(0,11):\n",
    "    ratio=i/10\n",
    "    x.append(ratio)\n",
    "#     print(ratio)\n",
    "    indices=get_accuracy_change(video_hmdb51,hmdb51,before_video_hmdb51,ratio)\n",
    "    trueratio=sum(indices==hmdb_true_label).numpy()[0]/video_hmdb51.shape[0]\n",
    "    res_hmdb51_c.append(trueratio)"
   ]
  },
  {
   "cell_type": "code",
   "execution_count": 145,
   "id": "3e16e4ed",
   "metadata": {},
   "outputs": [
    {
     "data": {
      "text/plain": [
       "[0.4804906887378067,\n",
       " 0.4819686668637304,\n",
       " 0.4798994974874372,\n",
       " 0.47886491279929055,\n",
       " 0.4733963937333727,\n",
       " 0.4702926396689329,\n",
       " 0.46659769435412357,\n",
       " 0.4629027490393142,\n",
       " 0.4578776234111735,\n",
       " 0.4535914868459947,\n",
       " 0.4472361809045226]"
      ]
     },
     "execution_count": 145,
     "metadata": {},
     "output_type": "execute_result"
    }
   ],
   "source": [
    "res_hmdb51_c"
   ]
  },
  {
   "cell_type": "code",
   "execution_count": 129,
   "id": "0decf537",
   "metadata": {},
   "outputs": [
    {
     "data": {
      "text/plain": [
       "[0.8308533252353477,\n",
       " 0.8659277254782872,\n",
       " 0.8810102237068529,\n",
       " 0.8884502480008099,\n",
       " 0.8938151634780849,\n",
       " 0.8953841481931369,\n",
       " 0.8954347606033,\n",
       " 0.8959408847049296,\n",
       " 0.8966494584472112,\n",
       " 0.897104970138678,\n",
       " 0.8964470088065594]"
      ]
     },
     "execution_count": 129,
     "metadata": {},
     "output_type": "execute_result"
    }
   ],
   "source": [
    "x=[]\n",
    "res_k400_c=[]\n",
    "# res_ucf101=[]\n",
    "for i in range(0,11):\n",
    "    ratio=i/10\n",
    "    x.append(ratio)\n",
    "#     print(ratio)\n",
    "    indices=get_accuracy_change(video_k400,k400,before_video_k400,ratio)\n",
    "    trueratio=sum(indices==k400_true_label).numpy()[0]/video_k400.shape[0]\n",
    "#     trueratio=sum(indices==hmdb_true_label).numpy()[0]/video_hmdb51.shape[0]\n",
    "    res_k400_c.append(trueratio)\n",
    "res_k400_c"
   ]
  },
  {
   "cell_type": "code",
   "execution_count": 82,
   "id": "a175a5d9",
   "metadata": {},
   "outputs": [],
   "source": [
    "x=[]\n",
    "# res_hmdb51=[]\n",
    "res_ucf101_c=[]\n",
    "for i in range(0,11):\n",
    "    ratio=i/10\n",
    "    x.append(ratio)\n",
    "#     print(ratio)\n",
    "    indices=get_accuracy_change(video_ucf101,ucf101,before_video_ucf101,ratio)\n",
    "    trueratio=sum(indices==ucf_true_label).numpy()[0]/video_ucf101.shape[0]\n",
    "    res_ucf101_c.append(trueratio)"
   ]
  },
  {
   "cell_type": "code",
   "execution_count": 83,
   "id": "ae14948e",
   "metadata": {},
   "outputs": [
    {
     "data": {
      "text/plain": [
       "[0.8809523809523809,\n",
       " 0.8826047769265435,\n",
       " 0.884257172900706,\n",
       " 0.8813279254919634,\n",
       " 0.8780231335436383,\n",
       " 0.8760703019378098,\n",
       " 0.8711882229232387,\n",
       " 0.8649541835661709,\n",
       " 0.859471233288268,\n",
       " 0.8516599068649542,\n",
       " 0.8442241249812228]"
      ]
     },
     "execution_count": 83,
     "metadata": {},
     "output_type": "execute_result"
    }
   ],
   "source": [
    "res_ucf101_c"
   ]
  },
  {
   "cell_type": "code",
   "execution_count": 83,
   "id": "7d7e0532",
   "metadata": {},
   "outputs": [
    {
     "ename": "NameError",
     "evalue": "name 'get_accuracy' is not defined",
     "output_type": "error",
     "traceback": [
      "\u001b[0;31m---------------------------------------------------------------------------\u001b[0m",
      "\u001b[0;31mNameError\u001b[0m                                 Traceback (most recent call last)",
      "\u001b[0;32m/tmp/ipykernel_32572/3643791544.py\u001b[0m in \u001b[0;36m<module>\u001b[0;34m\u001b[0m\n\u001b[1;32m      6\u001b[0m     \u001b[0mx\u001b[0m\u001b[0;34m.\u001b[0m\u001b[0mappend\u001b[0m\u001b[0;34m(\u001b[0m\u001b[0mratio\u001b[0m\u001b[0;34m)\u001b[0m\u001b[0;34m\u001b[0m\u001b[0;34m\u001b[0m\u001b[0m\n\u001b[1;32m      7\u001b[0m \u001b[0;31m#     print(ratio)\u001b[0m\u001b[0;34m\u001b[0m\u001b[0;34m\u001b[0m\u001b[0;34m\u001b[0m\u001b[0m\n\u001b[0;32m----> 8\u001b[0;31m     \u001b[0mindices\u001b[0m\u001b[0;34m=\u001b[0m\u001b[0mget_accuracy\u001b[0m\u001b[0;34m(\u001b[0m\u001b[0mvideo_hmdb51\u001b[0m\u001b[0;34m,\u001b[0m\u001b[0mhmdb51\u001b[0m\u001b[0;34m,\u001b[0m\u001b[0mbefore_video_hmdb51\u001b[0m\u001b[0;34m,\u001b[0m\u001b[0mratio\u001b[0m\u001b[0;34m)\u001b[0m\u001b[0;34m\u001b[0m\u001b[0;34m\u001b[0m\u001b[0m\n\u001b[0m\u001b[1;32m      9\u001b[0m     \u001b[0mtrueratio\u001b[0m\u001b[0;34m=\u001b[0m\u001b[0msum\u001b[0m\u001b[0;34m(\u001b[0m\u001b[0mindices\u001b[0m\u001b[0;34m==\u001b[0m\u001b[0mhmdb_true_label\u001b[0m\u001b[0;34m)\u001b[0m\u001b[0;34m.\u001b[0m\u001b[0mnumpy\u001b[0m\u001b[0;34m(\u001b[0m\u001b[0;34m)\u001b[0m\u001b[0;34m[\u001b[0m\u001b[0;36m0\u001b[0m\u001b[0;34m]\u001b[0m\u001b[0;34m/\u001b[0m\u001b[0mvideo_hmdb51\u001b[0m\u001b[0;34m.\u001b[0m\u001b[0mshape\u001b[0m\u001b[0;34m[\u001b[0m\u001b[0;36m0\u001b[0m\u001b[0;34m]\u001b[0m\u001b[0;34m\u001b[0m\u001b[0;34m\u001b[0m\u001b[0m\n\u001b[1;32m     10\u001b[0m     \u001b[0mres_hmdb51\u001b[0m\u001b[0;34m.\u001b[0m\u001b[0mappend\u001b[0m\u001b[0;34m(\u001b[0m\u001b[0mtrueratio\u001b[0m\u001b[0;34m)\u001b[0m\u001b[0;34m\u001b[0m\u001b[0;34m\u001b[0m\u001b[0m\n",
      "\u001b[0;31mNameError\u001b[0m: name 'get_accuracy' is not defined"
     ]
    }
   ],
   "source": [
    "x=[]\n",
    "res_hmdb51=[]\n",
    "# res_ucf101=[]\n",
    "for i in range(0,11):\n",
    "    ratio=i/10\n",
    "    x.append(ratio)\n",
    "#     print(ratio)\n",
    "    indices=get_accuracy(video_hmdb51,hmdb51,before_video_hmdb51,ratio)\n",
    "    trueratio=sum(indices==hmdb_true_label).numpy()[0]/video_hmdb51.shape[0]\n",
    "    res_hmdb51.append(trueratio)"
   ]
  },
  {
   "cell_type": "code",
   "execution_count": 1323,
   "id": "3026fe7f",
   "metadata": {},
   "outputs": [],
   "source": [
    "x=[]\n",
    "# res_hmdb51=[]\n",
    "res_ucf101=[]\n",
    "for i in range(0,11):\n",
    "    ratio=i/10\n",
    "    x.append(ratio)\n",
    "#     print(ratio)\n",
    "    indices=get_accuracy(video_ucf101,ucf101,before_video_ucf101,ratio)\n",
    "    trueratio=sum(indices==ucf_true_label).numpy()[0]/video_ucf101.shape[0]\n",
    "    res_ucf101.append(trueratio)"
   ]
  },
  {
   "cell_type": "code",
   "execution_count": 1335,
   "id": "ae0f19ac",
   "metadata": {
    "scrolled": true
   },
   "outputs": [
    {
     "data": {
      "text/plain": [
       "[0.5503990540939994,\n",
       " 0.5557197753473249,\n",
       " 0.5527638190954773,\n",
       " 0.5508424475317766,\n",
       " 0.546260715341413,\n",
       " 0.5422701744014189,\n",
       " 0.5360626662725392,\n",
       " 0.5314809340821756,\n",
       " 0.5283771800177357,\n",
       " 0.5245344368903341,\n",
       " 0.5211350872007094]"
      ]
     },
     "execution_count": 1335,
     "metadata": {},
     "output_type": "execute_result"
    }
   ],
   "source": [
    "res_hmdb51"
   ]
  },
  {
   "cell_type": "code",
   "execution_count": 1324,
   "id": "ae0beb54",
   "metadata": {},
   "outputs": [
    {
     "data": {
      "text/plain": [
       "[0.875319212858645,\n",
       " 0.8777226979119723,\n",
       " 0.8817034700315457,\n",
       " 0.8833558660057083,\n",
       " 0.8827549947423764,\n",
       " 0.8797506384257173,\n",
       " 0.8777978068198888,\n",
       " 0.8750938861348956,\n",
       " 0.8738170347003155,\n",
       " 0.8714135496469881,\n",
       " 0.8687847378699114]"
      ]
     },
     "execution_count": 1324,
     "metadata": {},
     "output_type": "execute_result"
    }
   ],
   "source": [
    "res_ucf101"
   ]
  },
  {
   "cell_type": "code",
   "execution_count": 197,
   "id": "ab588575",
   "metadata": {},
   "outputs": [
    {
     "data": {
      "text/plain": [
       "<matplotlib.legend.Legend at 0x7f5f87f3bb50>"
      ]
     },
     "execution_count": 197,
     "metadata": {},
     "output_type": "execute_result"
    },
    {
     "data": {
      "image/png": "[encoded data removed]",
      "text/plain": [
       "<Figure size 432x288 with 1 Axes>"
      ]
     },
     "metadata": {
      "needs_background": "light"
     },
     "output_type": "display_data"
    }
   ],
   "source": [
    "import matplotlib.pyplot as plt\n",
    "\n",
    "#折线图\n",
    "#点的横坐标\n",
    "x_=x\n",
    "k1 = res_hmdb51_1#线1的纵坐标\n",
    "k2 = res_hmdb51_2#线2的纵坐标\n",
    "k3=res_hmdb51_3\n",
    "plt.plot(x_,k1,'s-',color = 'b',label=\"cls\")#s-:方形\n",
    "plt.plot(x,k2,'s-',color = 'c',label=\"cls_oti\")#o-:圆形\n",
    "plt.plot(x,k3,'s-',color = 'r',label=\"cls_oti_match\")#o-:圆形\n",
    "plt.xlabel(\"the interpolation weight\")#横坐标名字\n",
    "plt.ylabel(\"ZSVR accuracies\")#纵坐标名字\n",
    "plt.legend(loc = \"best\")#图例\n",
    "\n",
    "# plt.show()\n",
    "# plt.savefig('vitb-16-hmdb')"
   ]
  },
  {
   "cell_type": "code",
   "execution_count": 147,
   "id": "520bacef",
   "metadata": {},
   "outputs": [],
   "source": [
    "res_hmdb51_o1=[round(i,3) for i in res_hmdb51_o1]\n",
    "res_hmdb51_c=[round(i,3) for i in res_hmdb51_c]"
   ]
  },
  {
   "cell_type": "code",
   "execution_count": 149,
   "id": "1bac594f",
   "metadata": {},
   "outputs": [
    {
     "data": {
      "text/plain": [
       "11"
      ]
     },
     "execution_count": 149,
     "metadata": {},
     "output_type": "execute_result"
    }
   ],
   "source": [
    "# len(res_hmdb51_o1)"
   ]
  },
  {
   "cell_type": "code",
   "execution_count": 150,
   "id": "b97ac8d5",
   "metadata": {},
   "outputs": [],
   "source": [
    "import os\n",
    "import pandas as pd\n",
    "\n",
    "# path = 'data/train/'\n",
    "# img_list=[]\n",
    "# lable_list=[]\n",
    "# testList = os.listdir(path)\n",
    "# for file in testList:\n",
    "#     img_list.append(file)\n",
    "#     label='aa'\n",
    "#     lable_list.append(label)\n",
    "\n",
    "df = pd.DataFrame({\"weight\": x,\"hmdb51_otf\": res_hmdb51_o1,\"hmdb51_after\":res_hmdb51_c})\n",
    "df.to_csv('hmdb51.csv',index=False)\n",
    "\n"
   ]
  },
  {
   "cell_type": "code",
   "execution_count": 117,
   "id": "4647bb58",
   "metadata": {},
   "outputs": [
    {
     "data": {
      "text/plain": [
       "[(tensor([0.4805]), 0.4804906887378067),\n",
       " (tensor([0.4826]), 0.4819686668637304),\n",
       " (tensor([0.4808]), 0.4798994974874372),\n",
       " (tensor([0.4803]), 0.47886491279929055),\n",
       " (tensor([0.4795]), 0.4733963937333727),\n",
       " (tensor([0.4781]), 0.4702926396689329),\n",
       " (tensor([0.4743]), 0.46659769435412357),\n",
       " (tensor([0.4732]), 0.4629027490393142),\n",
       " (tensor([0.4710]), 0.4578776234111735),\n",
       " (tensor([0.4704]), 0.4535914868459947),\n",
       " (tensor([0.4706]), 0.4472361809045226)]"
      ]
     },
     "execution_count": 117,
     "metadata": {},
     "output_type": "execute_result"
    }
   ],
   "source": [
    "list(zip(res_hmdb51_o1,res_hmdb51_c))"
   ]
  },
  {
   "cell_type": "code",
   "execution_count": 161,
   "id": "7590826b",
   "metadata": {},
   "outputs": [
    {
     "data": {
      "image/png": "[encoded data removed]",
      "text/plain": [
       "<Figure size 432x288 with 1 Axes>"
      ]
     },
     "metadata": {
      "needs_background": "light"
     },
     "output_type": "display_data"
    }
   ],
   "source": [
    "x_=x\n",
    "k1 = res_ucf101_o#线1的纵坐标\n",
    "k2 = res_ucf101_c#线2的纵坐标\n",
    "plt.plot(x_,k1,'o-',color = '#808d44',label=\"ucf101_otf\")#s-:方形\n",
    "plt.plot(x_,k2,'o-',color = 'g',label=\"ucf101_after\")#o-:圆形\n",
    "plt.xlabel(\"the interpolation weight\")#横坐标名字\n",
    "plt.ylabel(\"ZSVR accuracies\")#纵坐标名字\n",
    "plt.legend(loc = \"best\")#图例\n",
    "# plt.savefig('vitb-16-ucf')\n",
    "plt.show()\n"
   ]
  },
  {
   "cell_type": "code",
   "execution_count": 160,
   "id": "9ed64bcc",
   "metadata": {},
   "outputs": [
    {
     "ename": "TypeError",
     "evalue": "type Tensor doesn't define __round__ method",
     "output_type": "error",
     "traceback": [
      "\u001b[0;31m---------------------------------------------------------------------------\u001b[0m",
      "\u001b[0;31mTypeError\u001b[0m                                 Traceback (most recent call last)",
      "\u001b[0;32m/tmp/ipykernel_13013/4261703341.py\u001b[0m in \u001b[0;36m<module>\u001b[0;34m\u001b[0m\n\u001b[0;32m----> 1\u001b[0;31m \u001b[0mres_ucf101_o\u001b[0m\u001b[0;34m=\u001b[0m\u001b[0;34m[\u001b[0m\u001b[0mround\u001b[0m\u001b[0;34m(\u001b[0m\u001b[0mi\u001b[0m\u001b[0;34m,\u001b[0m\u001b[0;36m3\u001b[0m\u001b[0;34m)\u001b[0m \u001b[0;32mfor\u001b[0m \u001b[0mi\u001b[0m \u001b[0;32min\u001b[0m \u001b[0mk1\u001b[0m\u001b[0;34m]\u001b[0m\u001b[0;34m\u001b[0m\u001b[0;34m\u001b[0m\u001b[0m\n\u001b[0m\u001b[1;32m      2\u001b[0m \u001b[0mres_ucf101_c\u001b[0m\u001b[0;34m=\u001b[0m\u001b[0;34m[\u001b[0m\u001b[0mround\u001b[0m\u001b[0;34m(\u001b[0m\u001b[0mi\u001b[0m\u001b[0;34m,\u001b[0m\u001b[0;36m3\u001b[0m\u001b[0;34m)\u001b[0m \u001b[0;32mfor\u001b[0m \u001b[0mi\u001b[0m \u001b[0;32min\u001b[0m \u001b[0mk2\u001b[0m\u001b[0;34m]\u001b[0m\u001b[0;34m\u001b[0m\u001b[0;34m\u001b[0m\u001b[0m\n\u001b[1;32m      3\u001b[0m \u001b[0mdf\u001b[0m \u001b[0;34m=\u001b[0m \u001b[0mpd\u001b[0m\u001b[0;34m.\u001b[0m\u001b[0mDataFrame\u001b[0m\u001b[0;34m(\u001b[0m\u001b[0;34m{\u001b[0m\u001b[0;34m\"weight\"\u001b[0m\u001b[0;34m:\u001b[0m \u001b[0mx\u001b[0m\u001b[0;34m,\u001b[0m\u001b[0;34m\"ucf101_otf\"\u001b[0m\u001b[0;34m:\u001b[0m \u001b[0mres_ucf101_o\u001b[0m\u001b[0;34m,\u001b[0m\u001b[0;34m\"ucf101_after\"\u001b[0m\u001b[0;34m:\u001b[0m\u001b[0mres_ucf101_c\u001b[0m\u001b[0;34m}\u001b[0m\u001b[0;34m)\u001b[0m\u001b[0;34m\u001b[0m\u001b[0;34m\u001b[0m\u001b[0m\n\u001b[1;32m      4\u001b[0m \u001b[0mdf\u001b[0m\u001b[0;34m.\u001b[0m\u001b[0mto_csv\u001b[0m\u001b[0;34m(\u001b[0m\u001b[0;34m'ucf101_af.csv'\u001b[0m\u001b[0;34m,\u001b[0m\u001b[0mindex\u001b[0m\u001b[0;34m=\u001b[0m\u001b[0;32mFalse\u001b[0m\u001b[0;34m)\u001b[0m\u001b[0;34m\u001b[0m\u001b[0;34m\u001b[0m\u001b[0m\n",
      "\u001b[0;32m/tmp/ipykernel_13013/4261703341.py\u001b[0m in \u001b[0;36m<listcomp>\u001b[0;34m(.0)\u001b[0m\n\u001b[0;32m----> 1\u001b[0;31m \u001b[0mres_ucf101_o\u001b[0m\u001b[0;34m=\u001b[0m\u001b[0;34m[\u001b[0m\u001b[0mround\u001b[0m\u001b[0;34m(\u001b[0m\u001b[0mi\u001b[0m\u001b[0;34m,\u001b[0m\u001b[0;36m3\u001b[0m\u001b[0;34m)\u001b[0m \u001b[0;32mfor\u001b[0m \u001b[0mi\u001b[0m \u001b[0;32min\u001b[0m \u001b[0mk1\u001b[0m\u001b[0;34m]\u001b[0m\u001b[0;34m\u001b[0m\u001b[0;34m\u001b[0m\u001b[0m\n\u001b[0m\u001b[1;32m      2\u001b[0m \u001b[0mres_ucf101_c\u001b[0m\u001b[0;34m=\u001b[0m\u001b[0;34m[\u001b[0m\u001b[0mround\u001b[0m\u001b[0;34m(\u001b[0m\u001b[0mi\u001b[0m\u001b[0;34m,\u001b[0m\u001b[0;36m3\u001b[0m\u001b[0;34m)\u001b[0m \u001b[0;32mfor\u001b[0m \u001b[0mi\u001b[0m \u001b[0;32min\u001b[0m \u001b[0mk2\u001b[0m\u001b[0;34m]\u001b[0m\u001b[0;34m\u001b[0m\u001b[0;34m\u001b[0m\u001b[0m\n\u001b[1;32m      3\u001b[0m \u001b[0mdf\u001b[0m \u001b[0;34m=\u001b[0m \u001b[0mpd\u001b[0m\u001b[0;34m.\u001b[0m\u001b[0mDataFrame\u001b[0m\u001b[0;34m(\u001b[0m\u001b[0;34m{\u001b[0m\u001b[0;34m\"weight\"\u001b[0m\u001b[0;34m:\u001b[0m \u001b[0mx\u001b[0m\u001b[0;34m,\u001b[0m\u001b[0;34m\"ucf101_otf\"\u001b[0m\u001b[0;34m:\u001b[0m \u001b[0mres_ucf101_o\u001b[0m\u001b[0;34m,\u001b[0m\u001b[0;34m\"ucf101_after\"\u001b[0m\u001b[0;34m:\u001b[0m\u001b[0mres_ucf101_c\u001b[0m\u001b[0;34m}\u001b[0m\u001b[0;34m)\u001b[0m\u001b[0;34m\u001b[0m\u001b[0;34m\u001b[0m\u001b[0m\n\u001b[1;32m      4\u001b[0m \u001b[0mdf\u001b[0m\u001b[0;34m.\u001b[0m\u001b[0mto_csv\u001b[0m\u001b[0;34m(\u001b[0m\u001b[0;34m'ucf101_af.csv'\u001b[0m\u001b[0;34m,\u001b[0m\u001b[0mindex\u001b[0m\u001b[0;34m=\u001b[0m\u001b[0;32mFalse\u001b[0m\u001b[0;34m)\u001b[0m\u001b[0;34m\u001b[0m\u001b[0;34m\u001b[0m\u001b[0m\n",
      "\u001b[0;31mTypeError\u001b[0m: type Tensor doesn't define __round__ method"
     ]
    }
   ],
   "source": [
    "res_ucf101_o=[round(i,3) for i in k1]\n",
    "res_ucf101_c=[round(i,3) for i in k2]\n",
    "df = pd.DataFrame({\"weight\": x,\"ucf101_otf\": res_ucf101_o,\"ucf101_after\":res_ucf101_c})\n",
    "df.to_csv('ucf101_af.csv',index=False)\n"
   ]
  },
  {
   "cell_type": "code",
   "execution_count": 159,
   "id": "bc586a9b",
   "metadata": {},
   "outputs": [],
   "source": [
    "res_ucf101_o=[round(i,3) for i in res_ucf101_o]\n",
    "res_hmdb51_o=[round(i,3) for i in res_hmdb51_o1]\n",
    "df = pd.DataFrame({\"weight\": x,\"ucf101\": res_ucf101_o,\"hmdb51\":res_hmdb51_o})\n",
    "df.to_csv('vit_b_16.csv',index=False)"
   ]
  },
  {
   "cell_type": "code",
   "execution_count": 188,
   "id": "beb424ac",
   "metadata": {},
   "outputs": [],
   "source": [
    "# res_ucf101_o=[round(i,3) for i in res_ucf101_o]\n",
    "res_hmdb51_1=[round(i,3) for i in res_hmdb51_1]\n",
    "res_hmdb51_2=[round(i,3) for i in res_hmdb51_2]\n",
    "res_hmdb51_3=[round(i,3) for i in res_hmdb51_3]\n",
    "df = pd.DataFrame({\"weight\": x,\"1\": res_hmdb51_1,\"2\":res_hmdb51_2,\"3\":res_hmdb51_3})\n",
    "df.to_csv('3loss_hmdb51.csv',index=False)"
   ]
  },
  {
   "cell_type": "markdown",
   "id": "4b31bda2",
   "metadata": {},
   "source": [
    "### 置信度"
   ]
  },
  {
   "cell_type": "code",
   "execution_count": null,
   "id": "82b2bffc",
   "metadata": {},
   "outputs": [],
   "source": [
    "## 采用置信度的方式 "
   ]
  },
  {
   "cell_type": "code",
   "execution_count": 362,
   "id": "56450824",
   "metadata": {},
   "outputs": [],
   "source": [
    "def get_accuracy_confidence(video_feas,cls_feas,before_video_feas,ratio):\n",
    "#     coltrain=k400_visual_center[coltrain].mean(dim=1)\n",
    "    simi_visual=(100*video_feas@cls_feas.T).softmax(dim=-1)\n",
    "    similarity=(100*before_video_feas@cls_feas.T).softmax(dim=-1)\n",
    "    simi_videos=simi_visual.softmax(dim=-1).topk(1)\n",
    "    simi_before_vi=similarity.softmax(dim=-1).topk(1)\n",
    "#     print(simi_videos)\n",
    "    values=torch.hstack((simi_videos.values,simi_before_vi.values))## 4*2\n",
    "    indices=torch.hstack((simi_videos.indices,simi_before_vi.indices))## 4*2\n",
    "    ind=torch.argmax(values,dim=1)\n",
    "    re=indices.transpose(1,0)[ind][0]\n",
    "    re=re.unsqueeze(dim=1)\n",
    "    return re"
   ]
  },
  {
   "cell_type": "code",
   "execution_count": 363,
   "id": "ada3bb5d",
   "metadata": {},
   "outputs": [],
   "source": [
    "res=get_accuracy_confidence(video_ucf101,ucf101,before_video_ucf101,ratio)\n",
    "trueratio=sum(res==ucf_true_label).numpy()[0]/video_ucf101.shape[0]"
   ]
  },
  {
   "cell_type": "code",
   "execution_count": 364,
   "id": "79eb53f8",
   "metadata": {},
   "outputs": [
    {
     "data": {
      "text/plain": [
       "0.7778278503830555"
      ]
     },
     "execution_count": 364,
     "metadata": {},
     "output_type": "execute_result"
    }
   ],
   "source": [
    "trueratio"
   ]
  },
  {
   "cell_type": "markdown",
   "id": "a48be2d7",
   "metadata": {},
   "source": [
    "### T-SNE 可视化"
   ]
  },
  {
   "cell_type": "code",
   "execution_count": 331,
   "id": "3608b44f",
   "metadata": {},
   "outputs": [],
   "source": [
    "from sklearn.manifold import TSNE\n",
    "import numpy as np\n",
    "import matplotlib.pyplot as plt \n",
    "import seaborn as sns "
   ]
  },
  {
   "cell_type": "code",
   "execution_count": 338,
   "id": "c1abb1a9",
   "metadata": {},
   "outputs": [],
   "source": [
    "import pandas as pd"
   ]
  },
  {
   "cell_type": "code",
   "execution_count": 321,
   "id": "03747fb1",
   "metadata": {},
   "outputs": [],
   "source": [
    "tsne=TSNE(n_components=2)"
   ]
  },
  {
   "cell_type": "code",
   "execution_count": 352,
   "id": "3a9fc8da",
   "metadata": {},
   "outputs": [
    {
     "name": "stderr",
     "output_type": "stream",
     "text": [
      "/workdir/anaconda3/envs/torch1.7/lib/python3.7/site-packages/sklearn/manifold/_t_sne.py:783: FutureWarning: The default initialization in TSNE will change from 'random' to 'pca' in 1.2.\n",
      "  FutureWarning,\n",
      "/workdir/anaconda3/envs/torch1.7/lib/python3.7/site-packages/sklearn/manifold/_t_sne.py:793: FutureWarning: The default learning rate in TSNE will change from 200.0 to 'auto' in 1.2.\n",
      "  FutureWarning,\n"
     ]
    }
   ],
   "source": [
    "X_tsne=tsne.fit_transform(video_ucf101[:3000])"
   ]
  },
  {
   "cell_type": "code",
   "execution_count": 353,
   "id": "f491f493",
   "metadata": {},
   "outputs": [],
   "source": [
    "label_hmdb=ucf_true_label.numpy()[:3000]"
   ]
  },
  {
   "cell_type": "code",
   "execution_count": 323,
   "id": "2325d7b7",
   "metadata": {},
   "outputs": [
    {
     "data": {
      "text/plain": [
       "array([[-80.96204   , -34.333317  ],\n",
       "       [-10.240953  ,  -1.8702482 ],\n",
       "       [-78.265526  , -33.559685  ],\n",
       "       ...,\n",
       "       [  0.65615404,  62.260098  ],\n",
       "       [ 75.81215   ,  -0.7610053 ],\n",
       "       [-32.726646  ,  10.00664   ]], dtype=float32)"
      ]
     },
     "execution_count": 323,
     "metadata": {},
     "output_type": "execute_result"
    }
   ],
   "source": [
    "X_tsne"
   ]
  },
  {
   "cell_type": "code",
   "execution_count": 325,
   "id": "cc61c0b5",
   "metadata": {},
   "outputs": [
    {
     "data": {
      "text/plain": [
       "array([[31],\n",
       "       [50],\n",
       "       [31],\n",
       "       ...,\n",
       "       [16],\n",
       "       [ 8],\n",
       "       [ 6]])"
      ]
     },
     "execution_count": 325,
     "metadata": {},
     "output_type": "execute_result"
    }
   ],
   "source": [
    "label_hmdb"
   ]
  },
  {
   "cell_type": "code",
   "execution_count": 354,
   "id": "b78960fe",
   "metadata": {},
   "outputs": [],
   "source": [
    "X_tsne_data=np.hstack((X_tsne,label_hmdb))"
   ]
  },
  {
   "cell_type": "code",
   "execution_count": 355,
   "id": "e49f9d77",
   "metadata": {},
   "outputs": [],
   "source": [
    "df_sne=pd.DataFrame(X_tsne_data,columns=['dim1','dim2','class'])"
   ]
  },
  {
   "cell_type": "code",
   "execution_count": 356,
   "id": "0e3bb1d8",
   "metadata": {},
   "outputs": [
    {
     "data": {
      "image/png": "[encoded data removed]",
      "text/plain": [
       "<Figure size 576x576 with 1 Axes>"
      ]
     },
     "metadata": {
      "needs_background": "light"
     },
     "output_type": "display_data"
    }
   ],
   "source": [
    "plt.figure(figsize=(8, 8)) \n",
    "sns.scatterplot(data=df_sne,hue='class',x='dim1',y='dim2') \n",
    "plt.show()"
   ]
  },
  {
   "cell_type": "code",
   "execution_count": 351,
   "id": "dab0b4a1",
   "metadata": {},
   "outputs": [
    {
     "data": {
      "image/png": "[encoded data removed]",
      "text/plain": [
       "<Figure size 576x576 with 1 Axes>"
      ]
     },
     "metadata": {
      "needs_background": "light"
     },
     "output_type": "display_data"
    }
   ],
   "source": [
    "plt.figure(figsize=(8, 8)) \n",
    "sns.scatterplot(data=df_sne,hue='class',x='dim1',y='dim2') \n",
    "plt.show()"
   ]
  },
  {
   "cell_type": "code",
   "execution_count": 393,
   "id": "2103fe2b",
   "metadata": {},
   "outputs": [],
   "source": [
    "a=torch.randint(5,6,(1,))"
   ]
  },
  {
   "cell_type": "code",
   "execution_count": 395,
   "id": "978c1126",
   "metadata": {},
   "outputs": [],
   "source": [
    "a=a/10"
   ]
  },
  {
   "cell_type": "code",
   "execution_count": 397,
   "id": "0466c227",
   "metadata": {},
   "outputs": [],
   "source": [
    "a.requires_grad=True"
   ]
  },
  {
   "cell_type": "code",
   "execution_count": 398,
   "id": "017c1b18",
   "metadata": {},
   "outputs": [
    {
     "data": {
      "text/plain": [
       "tensor([0.5000], requires_grad=True)"
      ]
     },
     "execution_count": 398,
     "metadata": {},
     "output_type": "execute_result"
    }
   ],
   "source": [
    "a"
   ]
  },
  {
   "cell_type": "code",
   "execution_count": 399,
   "id": "63ca9fab",
   "metadata": {},
   "outputs": [
    {
     "data": {
      "text/plain": [
       "tensor([0])"
      ]
     },
     "execution_count": 399,
     "metadata": {},
     "output_type": "execute_result"
    }
   ],
   "source": [
    "torch.randint(0,1,(1,))"
   ]
  },
  {
   "cell_type": "code",
   "execution_count": 400,
   "id": "7260e321",
   "metadata": {},
   "outputs": [
    {
     "data": {
      "text/plain": [
       "device(type='cpu')"
      ]
     },
     "execution_count": 400,
     "metadata": {},
     "output_type": "execute_result"
    }
   ],
   "source": [
    "a.device"
   ]
  },
  {
   "cell_type": "code",
   "execution_count": 404,
   "id": "0aa9b5b6",
   "metadata": {},
   "outputs": [
    {
     "data": {
      "text/plain": [
       "torch.Size([101, 512])"
      ]
     },
     "execution_count": 404,
     "metadata": {},
     "output_type": "execute_result"
    }
   ],
   "source": [
    "ucf101.shape"
   ]
  },
  {
   "cell_type": "markdown",
   "id": "f67f033d",
   "metadata": {},
   "source": [
    "## 已知类别和未知类别的熵"
   ]
  },
  {
   "cell_type": "code",
   "execution_count": 589,
   "id": "10e57af7",
   "metadata": {},
   "outputs": [],
   "source": [
    "simi_ucf101=(100*ucf101@k400.T).softmax(dim=-1)"
   ]
  },
  {
   "cell_type": "code",
   "execution_count": 590,
   "id": "2eacabfd",
   "metadata": {},
   "outputs": [],
   "source": [
    "simi_hmdb51=(100*hmdb51@k400.T).softmax(dim=-1)"
   ]
  },
  {
   "cell_type": "code",
   "execution_count": 425,
   "id": "febcf162",
   "metadata": {},
   "outputs": [],
   "source": [
    "re=torch.log(simi_ucf101)*simi_ucf101"
   ]
  },
  {
   "cell_type": "code",
   "execution_count": 428,
   "id": "1496ce3d",
   "metadata": {},
   "outputs": [],
   "source": [
    "# re[0]"
   ]
  },
  {
   "cell_type": "code",
   "execution_count": 423,
   "id": "f4170622",
   "metadata": {},
   "outputs": [
    {
     "data": {
      "text/plain": [
       "tensor(-3.7702e-08)"
      ]
     },
     "execution_count": 423,
     "metadata": {},
     "output_type": "execute_result"
    }
   ],
   "source": [
    "torch.sum(torch.where(torch.isnan(re),torch.full_like(re,0),re))"
   ]
  },
  {
   "cell_type": "code",
   "execution_count": 593,
   "id": "9d89be0f",
   "metadata": {},
   "outputs": [],
   "source": [
    "def getentropy(simi_ma):\n",
    "    re=-torch.log(simi_ma)*simi_ma\n",
    "    all_en=torch.sum(torch.where(torch.isnan(re),torch.full_like(re,0),re),dim=1)\n",
    "    print(sum(all_en))\n",
    "    return torch.mean(all_en)\n",
    "#     return all_en/simi_ma.shape[0]"
   ]
  },
  {
   "cell_type": "code",
   "execution_count": 594,
   "id": "d84935ec",
   "metadata": {},
   "outputs": [
    {
     "name": "stdout",
     "output_type": "stream",
     "text": [
      "tensor(10.3741)\n"
     ]
    },
    {
     "data": {
      "text/plain": [
       "tensor(0.1027)"
      ]
     },
     "execution_count": 594,
     "metadata": {},
     "output_type": "execute_result"
    }
   ],
   "source": [
    "getentropy(simi_ucf101)"
   ]
  },
  {
   "cell_type": "code",
   "execution_count": 595,
   "id": "8f145063",
   "metadata": {},
   "outputs": [
    {
     "name": "stdout",
     "output_type": "stream",
     "text": [
      "tensor(3.5084)\n"
     ]
    },
    {
     "data": {
      "text/plain": [
       "tensor(0.0688)"
      ]
     },
     "execution_count": 595,
     "metadata": {},
     "output_type": "execute_result"
    }
   ],
   "source": [
    "getentropy(simi_hmdb51)"
   ]
  },
  {
   "cell_type": "markdown",
   "id": "844bbfe3",
   "metadata": {},
   "source": [
    "## seen classes and unseen classes"
   ]
  },
  {
   "cell_type": "code",
   "execution_count": 266,
   "id": "c2070896",
   "metadata": {},
   "outputs": [],
   "source": [
    "## 为k400选择最为相似的未知类别\n",
    "def get_simi_k400(k400_cls,unseen_cls):\n",
    "    simi=(100*k400_cls@unseen_cls.T).softmax(dim=-1)# 400*n\n",
    "    indice=simi.topk(1).indices\n",
    "    values=simi.topk(1).values\n",
    "    return indice,values\n",
    "\n",
    "# 已知类别去合成未知类别\n",
    "\n",
    "# 已知类别去分类视频，已知类别最相似未知类别，作为视频的结果 1种预测， 400 多对1  top3个未知类，\n",
    "\n",
    "# 未知类分类器 2种预测，比较好 top3\n",
    "\n",
    "# before、after之间 L2 loss （before+after）/2. == after -> before=after  L2优先\n",
    "\n",
    "# 2个top3 综合排序，比如 1 a\\b\\c 2 b\\c\\a \n",
    "\n",
    "# 不能准备视频的类别，两种\n",
    "\n",
    "\n",
    "# 1.before > after,联合损失 ，权值，20个epoch  优先 after>48.5\n",
    "# 2.融合预测 相似度，before after 投票   现在测--》投票 \n",
    "\n",
    "# 3.论文、框架\n"
   ]
  },
  {
   "cell_type": "code",
   "execution_count": 267,
   "id": "8bf61d2d",
   "metadata": {},
   "outputs": [],
   "source": [
    "inds,value=get_simi_k400(k400,hmdb51)"
   ]
  },
  {
   "cell_type": "code",
   "execution_count": 720,
   "id": "dfcb8724",
   "metadata": {},
   "outputs": [],
   "source": [
    "keys_un={}\n",
    "for now_id,ind in enumerate(inds):\n",
    "    keys_un.setdefault(int(ind[0]),[]).append(now_id)"
   ]
  },
  {
   "cell_type": "code",
   "execution_count": 742,
   "id": "1931fc9e",
   "metadata": {},
   "outputs": [],
   "source": [
    "simi=(100*hmdb51@k400.T).softmax(dim=-1).topk(2).indices"
   ]
  },
  {
   "cell_type": "code",
   "execution_count": 747,
   "id": "9f64b29e",
   "metadata": {},
   "outputs": [
    {
     "data": {
      "text/plain": [
       "tensor([396, 150])"
      ]
     },
     "execution_count": 747,
     "metadata": {},
     "output_type": "execute_result"
    }
   ],
   "source": [
    "simi[27]"
   ]
  },
  {
   "cell_type": "code",
   "execution_count": 743,
   "id": "42fc863b",
   "metadata": {},
   "outputs": [],
   "source": [
    "for ids,ind in enumerate(simi):\n",
    "    if ids not in keys_un.keys():\n",
    "        keys_un.setdefault(ids,[]).append(int(ind))"
   ]
  },
  {
   "cell_type": "code",
   "execution_count": 751,
   "id": "51a7506c",
   "metadata": {},
   "outputs": [
    {
     "data": {
      "text/plain": [
       "[396]"
      ]
     },
     "execution_count": 751,
     "metadata": {},
     "output_type": "execute_result"
    }
   ],
   "source": [
    "keys_un[27]"
   ]
  },
  {
   "cell_type": "code",
   "execution_count": 706,
   "id": "87a82437",
   "metadata": {},
   "outputs": [],
   "source": [
    "pre_inds=(100*video_ucf101@k400.T).softmax(dim=-1).topk(1).indices\n",
    "pre_vals=(100*video_ucf101@k400.T).softmax(dim=-1).topk(1).values\n",
    "pre_inds_un=inds[pre_inds.squeeze()]"
   ]
  },
  {
   "cell_type": "code",
   "execution_count": null,
   "id": "b1b12355",
   "metadata": {},
   "outputs": [],
   "source": []
  },
  {
   "cell_type": "code",
   "execution_count": 686,
   "id": "e8724bff",
   "metadata": {},
   "outputs": [],
   "source": [
    "pre_uninds=(100*video_ucf101@ucf101.T).softmax(dim=-1).topk(1).indices\n",
    "pre_unvals=(100*video_ucf101@ucf101.T).softmax(dim=-1).topk(1).values"
   ]
  },
  {
   "cell_type": "code",
   "execution_count": 753,
   "id": "5397aba6",
   "metadata": {},
   "outputs": [
    {
     "data": {
      "text/plain": [
       "tensor([7011])"
      ]
     },
     "execution_count": 753,
     "metadata": {},
     "output_type": "execute_result"
    }
   ],
   "source": [
    "sum(pre_uninds==pre_inds_un)"
   ]
  },
  {
   "cell_type": "code",
   "execution_count": 757,
   "id": "8b62b8c2",
   "metadata": {},
   "outputs": [
    {
     "data": {
      "text/plain": [
       "0.6018476791347454"
      ]
     },
     "execution_count": 757,
     "metadata": {},
     "output_type": "execute_result"
    }
   ],
   "source": [
    "(7011+1002)/13314"
   ]
  },
  {
   "cell_type": "code",
   "execution_count": 755,
   "id": "9c154dd3",
   "metadata": {},
   "outputs": [],
   "source": [
    "n=pre_inds.shape[0]\n",
    "count=0\n",
    "for i in range(n):\n",
    "    if pre_uninds[i]!=pre_inds_un[i]:\n",
    "        if pre_unvals[i]> pre_vals[i]:\n",
    "            pre=pre_uninds[i]\n",
    "        else:\n",
    "            pre=pre_inds_un[i]\n",
    "        if pre==ucf_true_label[i]:\n",
    "            count+=1"
   ]
  },
  {
   "cell_type": "code",
   "execution_count": 756,
   "id": "95cf178c",
   "metadata": {},
   "outputs": [
    {
     "data": {
      "text/plain": [
       "1002"
      ]
     },
     "execution_count": 756,
     "metadata": {},
     "output_type": "execute_result"
    }
   ],
   "source": [
    "count"
   ]
  },
  {
   "cell_type": "code",
   "execution_count": 665,
   "id": "e0b337e6",
   "metadata": {},
   "outputs": [],
   "source": [
    "n=pre_inds.shape[0]\n",
    "count=0\n",
    "for i in range(n):\n",
    "    if labels_ucf101[:,0][i] in pre_inds[i]:\n",
    "        count+=1"
   ]
  },
  {
   "cell_type": "code",
   "execution_count": 78,
   "id": "e335bea4",
   "metadata": {},
   "outputs": [],
   "source": [
    "def get_joint_forecast(ratio,video_fea,before_video_fea,true_label,seen_cls,unseen_cls,seen_unseen):\n",
    "    end_tensor=(1-ratio)*before_video_fea+ratio*video_fea\n",
    "    video_seen=(100*end_tensor@seen_cls.T).softmax(dim=-1).topk(1).indices\n",
    "    pre_seen=seen_unseen[video_seen.squeeze()]\n",
    "    pre_unseen=(100*end_tensor@unseen_cls.T).softmax(dim=-1).topk(1).indices\n",
    "    \n",
    "    seen=sum(pre_seen==true_label)/video_fea.shape[0]\n",
    "    unseen=sum(pre_unseen==true_label)/video_fea.shape[0]\n",
    "    joint=sum((pre_unseen==true_label) | (pre_seen==true_label))/video_fea.shape[0]\n",
    "    return seen,unseen,joint"
   ]
  },
  {
   "cell_type": "code",
   "execution_count": 82,
   "id": "7cb1f7aa",
   "metadata": {},
   "outputs": [
    {
     "data": {
      "text/plain": [
       "(tensor([0.5432]), tensor([0.7910]), tensor([0.8292]))"
      ]
     },
     "execution_count": 82,
     "metadata": {},
     "output_type": "execute_result"
    }
   ],
   "source": [
    "get_joint_forecast(1,video_ucf101,before_video_ucf101,ucf_true_label,k400,ucf101,inds)"
   ]
  },
  {
   "cell_type": "markdown",
   "id": "02dbc37f",
   "metadata": {},
   "source": [
    "## 投票"
   ]
  },
  {
   "cell_type": "code",
   "execution_count": 26,
   "id": "39993566",
   "metadata": {},
   "outputs": [],
   "source": [
    "def get_simi_k400(k400_cls,unseen_cls):\n",
    "    simi=(100*k400_cls@unseen_cls.T).softmax(dim=-1)# 400*n\n",
    "    indice=simi.topk(1).indices\n",
    "    values=simi.topk(1).values\n",
    "    return indice,values"
   ]
  },
  {
   "cell_type": "code",
   "execution_count": 269,
   "id": "e1845e7f",
   "metadata": {},
   "outputs": [],
   "source": []
  },
  {
   "cell_type": "code",
   "execution_count": 928,
   "id": "d6e24f3a",
   "metadata": {},
   "outputs": [],
   "source": [
    "## 1种分类\n",
    "pre_inds=(100*video_ucf101@k400.T).softmax(dim=-1).topk(1).indices\n",
    "pre_vals=(100*video_ucf101@k400.T).softmax(dim=-1).topk(1).values\n",
    "pre_inds_un=inds[pre_inds.squeeze()]"
   ]
  },
  {
   "cell_type": "code",
   "execution_count": 926,
   "id": "cf455d7f",
   "metadata": {},
   "outputs": [],
   "source": [
    "## 时序后分类\n",
    "after_temporl=(100*video_ucf101@ucf101.T).softmax(dim=-1).topk(1).indices"
   ]
  },
  {
   "cell_type": "code",
   "execution_count": 925,
   "id": "a8f522ce",
   "metadata": {},
   "outputs": [],
   "source": [
    "## 时序前分类\n",
    "before_temporl=(100*before_video_ucf101@ucf101.T).softmax(dim=-1).topk(1).indices"
   ]
  },
  {
   "cell_type": "code",
   "execution_count": 931,
   "id": "fe15f0e3",
   "metadata": {},
   "outputs": [],
   "source": [
    "## 联合\n",
    "joint_tem=(100*(0.7*video_ucf101+0.3*before_video_ucf101)@ucf101.T).softmax(dim=-1).topk(1).indices"
   ]
  },
  {
   "cell_type": "code",
   "execution_count": 647,
   "id": "3be65138",
   "metadata": {},
   "outputs": [],
   "source": [
    "def get_orthogonal_num_vec(now_tensor,best_tensor,ratio):\n",
    "    l2sums=torch.norm(best_tensor,dim=1)**2\n",
    "    l2sums=torch.unsqueeze(l2sums,dim=1)\n",
    "    maps=(now_tensor*best_tensor)/l2sums\n",
    "    maps*=best_tensor \n",
    "    gain=now_tensor-maps\n",
    "    res=best_tensor+gain\n",
    "    return res"
   ]
  },
  {
   "cell_type": "code",
   "execution_count": 1200,
   "id": "c95bca34",
   "metadata": {},
   "outputs": [],
   "source": [
    "def get_cls(video_fea,before_video_fea,unseen,seen,ratio):\n",
    "    inds,value=get_simi_k400(seen,unseen)\n",
    "    ## 1种分类\n",
    "    pre_inds=(100*video_fea@seen.T).softmax(dim=-1).topk(1).indices\n",
    "    pre_inds_un=inds[pre_inds.squeeze()]\n",
    "    ## 2种分类 时序后\n",
    "#     after_temporl=(100*video_fea@unseen.T).softmax(dim=-1).topk(1).indices\n",
    "#     after_temporl=(100*(ratio*video_fea+(1-ratio)*before_video_fea)@unseen.T).softmax(dim=-1).topk(1).indices\n",
    "    after_temporl=(100*(before_video_fea+ratio*(video_fea-before_video_fea))@unseen.T).softmax(dim=-1).topk(1).indices\n",
    "    ## 3时序前\n",
    "    before_temporl=(100*before_video_fea@unseen.T).softmax(dim=-1).topk(1).indices\n",
    "    ## 4联合\n",
    "    \n",
    "    before_gain=get_orthogonal_gain_ratio(video_fea,before_video_fea,0.4)\n",
    "    before_gain=(100*before_gain@unseen.T).softmax(dim=-1).topk(1).indices\n",
    "    \n",
    "    return pre_inds_un,after_temporl,before_temporl,before_gain\n",
    "    \n",
    "    \n",
    "    "
   ]
  },
  {
   "cell_type": "code",
   "execution_count": null,
   "id": "e18e6543",
   "metadata": {},
   "outputs": [],
   "source": []
  },
  {
   "cell_type": "code",
   "execution_count": 1201,
   "id": "af5ef56d",
   "metadata": {},
   "outputs": [],
   "source": [
    "inds,value=get_simi_k400(k400,hmdb51)\n",
    "cls1,cls2,cls3,cls4=get_cls(video_hmdb51,before_video_hmdb51,hmdb51,k400,0.3)"
   ]
  },
  {
   "cell_type": "code",
   "execution_count": 1136,
   "id": "f680712c",
   "metadata": {},
   "outputs": [],
   "source": [
    "inds,value=get_simi_k400(k400,ucf101)\n",
    "cls1,cls2,cls3,cls4=get_cls(video_ucf101,before_video_ucf101,ucf101,k400,0.5)"
   ]
  },
  {
   "cell_type": "code",
   "execution_count": 1214,
   "id": "b3fd094a",
   "metadata": {},
   "outputs": [],
   "source": [
    "n=cls1.shape[0]\n",
    "count=0\n",
    "one_ti=0\n",
    "for i in range(n):\n",
    "#     be=cls3[i]\n",
    "    af=cls2[i]\n",
    "#     se_unse=cls1[i]\n",
    "    joint=cls4[i]\n",
    "    re=[0]*hmdb51.shape[0]\n",
    "#     re[be]+=1\n",
    "    re[af]+=1\n",
    "#     re[se_unse]+=1\n",
    "    re[joint]+=1\n",
    "    if max(re)==1:\n",
    "        one_ti+=1\n",
    "        if hmdb_true_label[i] == joint:\n",
    "            count+=1\n",
    "    else:        \n",
    "        pre=re.index(max(re))\n",
    "        if pre==hmdb_true_label[i]:\n",
    "            count+=1"
   ]
  },
  {
   "cell_type": "code",
   "execution_count": 1215,
   "id": "451a7b5c",
   "metadata": {},
   "outputs": [
    {
     "data": {
      "text/plain": [
       "0.4989654153118534"
      ]
     },
     "execution_count": 1215,
     "metadata": {},
     "output_type": "execute_result"
    }
   ],
   "source": [
    "count/n"
   ]
  },
  {
   "cell_type": "code",
   "execution_count": 1137,
   "id": "d38cd4f2",
   "metadata": {},
   "outputs": [],
   "source": [
    "n=cls1.shape[0]\n",
    "count=0\n",
    "one_ti=0\n",
    "for i in range(n):\n",
    "    be=cls3[i]\n",
    "    af=cls2[i]\n",
    "    se_unse=cls1[i]\n",
    "    joint=cls4[i]\n",
    "    re=[0]*ucf101.shape[0]\n",
    "    re[be]+=1\n",
    "    re[af]+=1\n",
    "    re[se_unse]+=1\n",
    "    re[joint]+=1\n",
    "    if max(re)==1:\n",
    "        one_ti+=1\n",
    "        if ucf_true_label[i] == af:\n",
    "            count+=1\n",
    "    else:        \n",
    "        pre=re.index(max(re))\n",
    "        if pre==ucf_true_label[i]:\n",
    "            count+=1"
   ]
  },
  {
   "cell_type": "code",
   "execution_count": 1138,
   "id": "4a7ce8f1",
   "metadata": {},
   "outputs": [
    {
     "data": {
      "text/plain": [
       "0.788418206399279"
      ]
     },
     "execution_count": 1138,
     "metadata": {},
     "output_type": "execute_result"
    }
   ],
   "source": [
    "count/n"
   ]
  },
  {
   "cell_type": "code",
   "execution_count": null,
   "id": "199b7575",
   "metadata": {},
   "outputs": [],
   "source": [
    "1\\2\\4 joint 77.4% -->ucf101 \n",
    "1\\2\\3\\4 joint 77% af 77% be 77%\n",
    "1\\2\\4 joint 44.9% af 45% se_unse 43.6%-->hmdb51 \n",
    "1\\2\\3\\4 joint 45.3% af 45.5% be 45.3% -->hmdb51\n"
   ]
  },
  {
   "cell_type": "code",
   "execution_count": null,
   "id": "80ffa1fb",
   "metadata": {},
   "outputs": [],
   "source": [
    "3部分投票：时序前、时序后、已知类到未知类\n",
    "ucf101:\n",
    "    当1为最大票数时，将视频分类为 af预测的结果\n",
    "    当1不为最大票数时，将视频分类为票数最多的结果\n",
    "    投票结果： 77.3%\n",
    "hmdb51:\n",
    "    当1为最大票数时，将视频分类为 af预测的结果\n",
    "    当1不为最大票数时，将视频分类为票数最多的结果\n",
    "    投票结果： 49.2%\n",
    "4部分投票：时序前、时序后、已知类到未知类、时序前和时序后联合-->效果差\n",
    "ucf101：\n",
    "    "
   ]
  },
  {
   "cell_type": "markdown",
   "id": "d75a8933",
   "metadata": {},
   "source": [
    "## only Ratio Loss"
   ]
  },
  {
   "cell_type": "code",
   "execution_count": 1004,
   "id": "162328c8",
   "metadata": {},
   "outputs": [],
   "source": [
    "from transformers import"
   ]
  },
  {
   "cell_type": "markdown",
   "id": "3f5d7793",
   "metadata": {},
   "source": [
    "## NCE loss"
   ]
  },
  {
   "cell_type": "code",
   "execution_count": 119,
   "id": "246bfaf6",
   "metadata": {},
   "outputs": [],
   "source": [
    "import numpy as np\n",
    "import torch.nn.functional as F"
   ]
  },
  {
   "cell_type": "code",
   "execution_count": 109,
   "id": "d535a507",
   "metadata": {},
   "outputs": [],
   "source": [
    "def gen_label(labels):\n",
    "    num = len(labels)\n",
    "    gt = np.zeros(shape=(num,num))\n",
    "    for i, label in enumerate(labels):\n",
    "        for k in range(num):\n",
    "            if labels[k] == label:\n",
    "                gt[i,k] = 1\n",
    "    return gt"
   ]
  },
  {
   "cell_type": "code",
   "execution_count": 110,
   "id": "60ab4391",
   "metadata": {},
   "outputs": [],
   "source": [
    "labels=np.random.randint(0,51,(8,1))"
   ]
  },
  {
   "cell_type": "code",
   "execution_count": 111,
   "id": "48e728c2",
   "metadata": {},
   "outputs": [
    {
     "data": {
      "text/plain": [
       "array([[12],\n",
       "       [13],\n",
       "       [10],\n",
       "       [11],\n",
       "       [17],\n",
       "       [ 5],\n",
       "       [23],\n",
       "       [46]])"
      ]
     },
     "execution_count": 111,
     "metadata": {},
     "output_type": "execute_result"
    }
   ],
   "source": [
    "labels"
   ]
  },
  {
   "cell_type": "code",
   "execution_count": 112,
   "id": "053507f5",
   "metadata": {},
   "outputs": [],
   "source": [
    "ground_true=gen_label(labels)"
   ]
  },
  {
   "cell_type": "code",
   "execution_count": 113,
   "id": "a9659695",
   "metadata": {},
   "outputs": [
    {
     "data": {
      "text/plain": [
       "array([[1., 0., 0., 0., 0., 0., 0., 0.],\n",
       "       [0., 1., 0., 0., 0., 0., 0., 0.],\n",
       "       [0., 0., 1., 0., 0., 0., 0., 0.],\n",
       "       [0., 0., 0., 1., 0., 0., 0., 0.],\n",
       "       [0., 0., 0., 0., 1., 0., 0., 0.],\n",
       "       [0., 0., 0., 0., 0., 1., 0., 0.],\n",
       "       [0., 0., 0., 0., 0., 0., 1., 0.],\n",
       "       [0., 0., 0., 0., 0., 0., 0., 1.]])"
      ]
     },
     "execution_count": 113,
     "metadata": {},
     "output_type": "execute_result"
    }
   ],
   "source": [
    "ground_true"
   ]
  },
  {
   "cell_type": "code",
   "execution_count": 114,
   "id": "481204dc",
   "metadata": {},
   "outputs": [],
   "source": [
    "import torch.nn as nn\n",
    "\n",
    "class NCELoss(nn.Module):\n",
    "    \"\"\"Loss that uses a 'hinge' on the lower bound.\n",
    "    This means that for samples with a label value smaller than the threshold, the loss is zero if the prediction is\n",
    "    also smaller than that threshold.\n",
    "    args:\n",
    "        error_matric:  What base loss to use (MSE by default).\n",
    "        threshold:  Threshold to use for the hinge.\n",
    "        clip:  Clip the loss if it is above this value.\n",
    "    \"\"\"\n",
    "\n",
    "    def __init__(self, error_metric=nn.KLDivLoss(reduction='mean')):\n",
    "        super().__init__()\n",
    "        print('=========using NCE Loss==========')\n",
    "        self.error_metric = error_metric\n",
    "\n",
    "    def forward(self, prediction, label):\n",
    "        batch_size = len(prediction)\n",
    "        probs1 = F.log_softmax(prediction, 1)\n",
    "        probs2 = F.softmax(label * 10, 1)\n",
    "        loss = self.error_metric(probs1, probs2) * batch_size\n",
    "        return loss"
   ]
  },
  {
   "cell_type": "code",
   "execution_count": 115,
   "id": "9806d292",
   "metadata": {},
   "outputs": [],
   "source": [
    "image=torch.randn((8,512))"
   ]
  },
  {
   "cell_type": "code",
   "execution_count": 122,
   "id": "cb6c776b",
   "metadata": {},
   "outputs": [],
   "source": [
    "text=torch.randn((8,512))"
   ]
  },
  {
   "cell_type": "code",
   "execution_count": 123,
   "id": "2053eb69",
   "metadata": {},
   "outputs": [],
   "source": [
    "log_pre_image=image@text.T\n",
    "log_pre_text=log_pre_image.T"
   ]
  },
  {
   "cell_type": "code",
   "execution_count": 116,
   "id": "57c18e45",
   "metadata": {},
   "outputs": [],
   "source": [
    "ground_true=torch.Tensor(ground_true)"
   ]
  },
  {
   "cell_type": "code",
   "execution_count": 121,
   "id": "49b6955d",
   "metadata": {},
   "outputs": [
    {
     "data": {
      "text/plain": [
       "torch.Size([8, 8])"
      ]
     },
     "execution_count": 121,
     "metadata": {},
     "output_type": "execute_result"
    }
   ],
   "source": [
    "ground_true.shape"
   ]
  },
  {
   "cell_type": "code",
   "execution_count": 117,
   "id": "c79e181e",
   "metadata": {},
   "outputs": [
    {
     "name": "stdout",
     "output_type": "stream",
     "text": [
      "=========using NCE Loss==========\n"
     ]
    }
   ],
   "source": [
    "loss=NCELoss()"
   ]
  },
  {
   "cell_type": "code",
   "execution_count": 124,
   "id": "783e9848",
   "metadata": {},
   "outputs": [
    {
     "name": "stderr",
     "output_type": "stream",
     "text": [
      "/workdir/anaconda3/envs/torch1.7/lib/python3.7/site-packages/torch/nn/functional.py:2905: UserWarning: reduction: 'mean' divides the total loss by both the batch size and the support size.'batchmean' divides only by the batch size, and aligns with the KL div math definition.'mean' will be changed to behave the same as 'batchmean' in the next major release.\n",
      "  \"reduction: 'mean' divides the total loss by both the batch size and the support size.\"\n"
     ]
    },
    {
     "data": {
      "text/plain": [
       "tensor(45.9280)"
      ]
     },
     "execution_count": 124,
     "metadata": {},
     "output_type": "execute_result"
    }
   ],
   "source": [
    "loss(log_pre_image,ground_true)"
   ]
  },
  {
   "cell_type": "code",
   "execution_count": 125,
   "id": "7104b74a",
   "metadata": {},
   "outputs": [],
   "source": [
    "probs2 = F.softmax(ground_true * 10, 1)"
   ]
  },
  {
   "cell_type": "code",
   "execution_count": 126,
   "id": "73cb831f",
   "metadata": {},
   "outputs": [
    {
     "data": {
      "text/plain": [
       "tensor([[9.9968e-01, 4.5386e-05, 4.5386e-05, 4.5386e-05, 4.5386e-05, 4.5386e-05,\n",
       "         4.5386e-05, 4.5386e-05],\n",
       "        [4.5386e-05, 9.9968e-01, 4.5386e-05, 4.5386e-05, 4.5386e-05, 4.5386e-05,\n",
       "         4.5386e-05, 4.5386e-05],\n",
       "        [4.5386e-05, 4.5386e-05, 9.9968e-01, 4.5386e-05, 4.5386e-05, 4.5386e-05,\n",
       "         4.5386e-05, 4.5386e-05],\n",
       "        [4.5386e-05, 4.5386e-05, 4.5386e-05, 9.9968e-01, 4.5386e-05, 4.5386e-05,\n",
       "         4.5386e-05, 4.5386e-05],\n",
       "        [4.5386e-05, 4.5386e-05, 4.5386e-05, 4.5386e-05, 9.9968e-01, 4.5386e-05,\n",
       "         4.5386e-05, 4.5386e-05],\n",
       "        [4.5386e-05, 4.5386e-05, 4.5386e-05, 4.5386e-05, 4.5386e-05, 9.9968e-01,\n",
       "         4.5386e-05, 4.5386e-05],\n",
       "        [4.5386e-05, 4.5386e-05, 4.5386e-05, 4.5386e-05, 4.5386e-05, 4.5386e-05,\n",
       "         9.9968e-01, 4.5386e-05],\n",
       "        [4.5386e-05, 4.5386e-05, 4.5386e-05, 4.5386e-05, 4.5386e-05, 4.5386e-05,\n",
       "         4.5386e-05, 9.9968e-01]])"
      ]
     },
     "execution_count": 126,
     "metadata": {},
     "output_type": "execute_result"
    }
   ],
   "source": [
    "probs2"
   ]
  },
  {
   "cell_type": "markdown",
   "id": "ece6ef8e",
   "metadata": {},
   "source": [
    "## k600 视频帧数"
   ]
  },
  {
   "cell_type": "code",
   "execution_count": 385,
   "id": "4fac2cb3",
   "metadata": {},
   "outputs": [],
   "source": [
    "path='../../import_preimage/data/k600_split_three.txt'"
   ]
  },
  {
   "cell_type": "code",
   "execution_count": 386,
   "id": "8a77844d",
   "metadata": {},
   "outputs": [],
   "source": [
    "datas=[i.strip().split(',') for i in open(path).readlines()]"
   ]
  },
  {
   "cell_type": "code",
   "execution_count": 387,
   "id": "629572f0",
   "metadata": {},
   "outputs": [
    {
     "name": "stdout",
     "output_type": "stream",
     "text": [
      "['crossing eyes/xDdFnEMQsVQ_000000_000010', '11', '35']\n",
      "['falling off chair/m8csO2BAy_Y_000000_000010', '15', '43']\n",
      "['playing polo/tyC6rwOy5zQ_000000_000010', '0', '99']\n",
      "['playing polo/vOtC-tEyKXM_000050_000060', '0', '99']\n",
      "['playing polo/veVlqCj7Imc_000059_000069', '0', '99']\n",
      "['playing polo/wFhFYJdYY7M_000027_000037', '0', '99']\n",
      "['pouring beer/84yFvPZwAm8_000000_000010', '10', '102']\n",
      "['raising eyebrows/pkJLLdrZpJ4_000000_000010', '15', '111']\n",
      "['shuffling feet/HDxEdTCNEiw_000000_000010', '23', '121']\n",
      "['watching tv/ECqO26EwBTY_000000_000010', '19', '155']\n"
     ]
    }
   ],
   "source": [
    "for ind,data in enumerate(datas):\n",
    "    if int(data[1])<24:\n",
    "        print(datas[ind])"
   ]
  },
  {
   "cell_type": "code",
   "execution_count": 379,
   "id": "301f50f6",
   "metadata": {},
   "outputs": [
    {
     "data": {
      "text/plain": [
       "['crossing eyes/xDdFnEMQsVQ_000000_000010', '11', '29']"
      ]
     },
     "execution_count": 379,
     "metadata": {},
     "output_type": "execute_result"
    }
   ],
   "source": [
    "datas[2536]"
   ]
  },
  {
   "cell_type": "code",
   "execution_count": 177,
   "id": "ce38e3f6",
   "metadata": {},
   "outputs": [],
   "source": [
    "import os"
   ]
  },
  {
   "cell_type": "code",
   "execution_count": 178,
   "id": "725053a9",
   "metadata": {},
   "outputs": [
    {
     "data": {
      "text/plain": [
       "400"
      ]
     },
     "execution_count": 178,
     "metadata": {},
     "output_type": "execute_result"
    }
   ],
   "source": [
    "len(os.listdir('../../kinetics400_frames/'))"
   ]
  },
  {
   "cell_type": "code",
   "execution_count": 179,
   "id": "4912b662",
   "metadata": {},
   "outputs": [
    {
     "data": {
      "text/plain": [
       "254380"
      ]
     },
     "execution_count": 179,
     "metadata": {},
     "output_type": "execute_result"
    }
   ],
   "source": [
    "count=0\n",
    "root='../../kinetics400_frames/'\n",
    "for ac in os.listdir(root):\n",
    "    count+=len(os.listdir(os.path.join(root,ac)))\n",
    "#     for vc in :\n",
    "#         count+=len(os.li)\n",
    "count"
   ]
  },
  {
   "cell_type": "code",
   "execution_count": 180,
   "id": "21af41fc",
   "metadata": {},
   "outputs": [],
   "source": [
    "loss=torch.nn.MSELoss()"
   ]
  },
  {
   "cell_type": "code",
   "execution_count": 181,
   "id": "befba4e7",
   "metadata": {},
   "outputs": [],
   "source": [
    "a=torch.randn((2,512))\n",
    "b=torch.randn((2,512))"
   ]
  },
  {
   "cell_type": "code",
   "execution_count": 347,
   "id": "ea151a72",
   "metadata": {},
   "outputs": [],
   "source": [
    "import random\n",
    "import numpy as np"
   ]
  },
  {
   "cell_type": "code",
   "execution_count": 348,
   "id": "c902ad2d",
   "metadata": {},
   "outputs": [],
   "source": [
    "def setup_seed(seed):\n",
    "    torch.manual_seed(seed)\n",
    "    torch.cuda.manual_seed_all(seed)\n",
    "    np.random.seed(seed)\n",
    "    random.seed(seed)\n",
    "    torch.backends.cudnn.deterministic = True"
   ]
  },
  {
   "cell_type": "code",
   "execution_count": 349,
   "id": "4634ca26",
   "metadata": {},
   "outputs": [],
   "source": [
    "setup_seed(1024)"
   ]
  },
  {
   "cell_type": "markdown",
   "id": "1bde383e",
   "metadata": {},
   "source": [
    "## hmdb与ucf101--0/50"
   ]
  },
  {
   "cell_type": "code",
   "execution_count": 1029,
   "id": "e8143bbd",
   "metadata": {},
   "outputs": [],
   "source": [
    "import numpy as np"
   ]
  },
  {
   "cell_type": "code",
   "execution_count": 1109,
   "id": "e2e7b5c3",
   "metadata": {},
   "outputs": [],
   "source": [
    "def accuracy(output, target, topk=(1, )):\n",
    "    \"\"\"Computes the precision@k for the specified values of k\"\"\"\n",
    "    maxk = max(topk)\n",
    "    batch_size = target.size(0)\n",
    "\n",
    "    _, pred = output.topk(maxk, 1, True, True)\n",
    "    pred = pred.t()\n",
    "    correct = pred.eq(target.view(1, -1).expand_as(pred))\n",
    "    res = []\n",
    "    for k in topk:\n",
    "        correct_k = correct[:k].reshape(-1).float().sum(0)\n",
    "        res.append(correct_k.mul_(100.0 / batch_size))\n",
    "    return res"
   ]
  },
  {
   "cell_type": "code",
   "execution_count": 1110,
   "id": "1c82a3d0",
   "metadata": {},
   "outputs": [],
   "source": [
    "def compute_accuracy(vis_emb, text_emb, label):\n",
    "    n_class = len(text_emb)\n",
    "    n_samples = len(vis_emb)\n",
    "    similarity=(100.0 * vis_emb @ text_emb.T)\n",
    "    similarity=similarity.view(n_samples, -1, n_class).softmax(dim = -1)\n",
    "    similarity=similarity.mean(dim = 1, keepdim = False)  # b 101\n",
    "    prec=accuracy(similarity, label, topk = (1, 5))\n",
    "    return prec[0], prec[1]"
   ]
  },
  {
   "cell_type": "code",
   "execution_count": 1111,
   "id": "dfda85c3",
   "metadata": {},
   "outputs": [],
   "source": [
    "def multi_split_test(vis_embs, text_embs, true_label):\n",
    "    full_acc1, full_acc5 = compute_accuracy(vis_embs, text_embs, true_label)\n",
    " \n",
    "    # Calculate accuracy per split\n",
    "    # Only when the model has been trained on a different dataset\n",
    "    true_label = true_label.numpy()\n",
    "    accuracy_split, accuracy_split_top5 = np.zeros(10), np.zeros(10)\n",
    "    for split in range(len(accuracy_split)):\n",
    "        np.random.seed(split)\n",
    "        sel_classes = np.random.permutation(len(text_embs))[:len(text_embs) // 2]  # 一半的类别\n",
    "        sel = [l in sel_classes for l in true_label]  # 判断每一条视频的标签是否在测试的类别内\n",
    "        subclasses = np.unique(true_label[sel])## 测试的类别标签\n",
    "        #### 标签映射\n",
    "        tl = np.array([int(np.where(l == subclasses)[0]) for l in true_label[sel]])## true_label[sel] 视频数\n",
    "        tl = torch.from_numpy(tl)## 原始相对所有类别的标签--》相对于一半类别的标签\n",
    "        acc, acc5 = compute_accuracy(vis_embs[sel], text_embs[subclasses], tl)\n",
    "        accuracy_split[split] = acc\n",
    "        accuracy_split_top5[split] = acc5\n",
    "    \n",
    "    return accuracy_split, accuracy_split_top5"
   ]
  },
  {
   "cell_type": "code",
   "execution_count": 1194,
   "id": "99c1d1b8",
   "metadata": {},
   "outputs": [],
   "source": [
    "def get_orthogonal_gain_ratio(now_tensor,best_tensor,ratio):\n",
    "    l2sums=torch.norm(best_tensor,dim=1)**2\n",
    "    l2sums=torch.unsqueeze(l2sums,dim=1)\n",
    "    maps=(now_tensor*best_tensor)/l2sums\n",
    "    maps*=best_tensor \n",
    "    gain=now_tensor-maps\n",
    "    res=best_tensor+gain*ratio\n",
    "    return res"
   ]
  },
  {
   "cell_type": "code",
   "execution_count": 1278,
   "id": "fcec6b40",
   "metadata": {},
   "outputs": [],
   "source": [
    "video=before_video_hmdb51+0.4*(video_hmdb51-before_video_hmdb51)"
   ]
  },
  {
   "cell_type": "code",
   "execution_count": 1406,
   "id": "b3ea0c78",
   "metadata": {},
   "outputs": [],
   "source": [
    "video=get_orthogonal_gain_ratio(video_hmdb51,before_video_hmdb51,0.4)"
   ]
  },
  {
   "cell_type": "code",
   "execution_count": 1407,
   "id": "25ca7a7e",
   "metadata": {},
   "outputs": [],
   "source": [
    "topk1,_=multi_split_test(video,hmdb51,hmdb_true_label)"
   ]
  },
  {
   "cell_type": "code",
   "execution_count": 1408,
   "id": "69d088c8",
   "metadata": {},
   "outputs": [
    {
     "name": "stdout",
     "output_type": "stream",
     "text": [
      "Top1: mean 62.972%, std 5.800%\n"
     ]
    }
   ],
   "source": [
    "print('Top1: mean {:.03f}%, std {:.03f}%'.format(np.mean(topk1),np.std(topk1)))"
   ]
  },
  {
   "cell_type": "code",
   "execution_count": 1397,
   "id": "07fa01ea",
   "metadata": {},
   "outputs": [
    {
     "name": "stdout",
     "output_type": "stream",
     "text": [
      "Top1: mean 92.542%, std 2.342%\n"
     ]
    }
   ],
   "source": [
    "# video=before_video_ucf101+0.5*(video_ucf101-before_video_ucf101)\n",
    "video=get_orthogonal_gain_ratio(video_ucf101,before_video_ucf101,0.8)\n",
    "topk1,_=multi_split_test(video,ucf101,ucf_true_label)\n",
    "print('Top1: mean {:.03f}%, std {:.03f}%'.format(np.mean(topk1),np.std(topk1)))"
   ]
  },
  {
   "cell_type": "markdown",
   "id": "f3b66b0a",
   "metadata": {},
   "source": [
    "## 模型的参数量统计"
   ]
  },
  {
   "cell_type": "code",
   "execution_count": 106,
   "id": "e19ebab4",
   "metadata": {},
   "outputs": [],
   "source": [
    "def get_parameter_number(model):\n",
    "    total_num = sum(p.numel() for p in model.parameters())\n",
    "    trainable_num = sum(p.numel() for p in model.parameters() if p.requires_grad)\n",
    "    return {'Total': total_num, 'Trainable': trainable_num}\n"
   ]
  },
  {
   "cell_type": "code",
   "execution_count": null,
   "id": "848749b5",
   "metadata": {},
   "outputs": [],
   "source": []
  },
  {
   "cell_type": "code",
   "execution_count": 383,
   "id": "249f5541",
   "metadata": {},
   "outputs": [],
   "source": [
    "\n",
    "checkpoint = torch.load('../records/exp_zero_shot/k400/ViT-B/32/mm_ftf/ViT-B-32_epoch4_model_one_tem.pt', map_location='cpu')"
   ]
  },
  {
   "cell_type": "code",
   "execution_count": 384,
   "id": "873fa17f",
   "metadata": {},
   "outputs": [
    {
     "data": {
      "text/plain": [
       "dict_keys(['epoch', 'model_state_dict', 'optimizer_state_dict'])"
      ]
     },
     "execution_count": 384,
     "metadata": {},
     "output_type": "execute_result"
    }
   ],
   "source": [
    "checkpoint.keys()"
   ]
  },
  {
   "cell_type": "code",
   "execution_count": 385,
   "id": "4e80437f",
   "metadata": {},
   "outputs": [],
   "source": [
    "weights=checkpoint['model_state_dict']"
   ]
  },
  {
   "cell_type": "code",
   "execution_count": 390,
   "id": "1b784aa6",
   "metadata": {},
   "outputs": [
    {
     "data": {
      "text/plain": [
       "False"
      ]
     },
     "execution_count": 390,
     "metadata": {},
     "output_type": "execute_result"
    }
   ],
   "source": [
    "\"textual.ctx\" in weights.keys()"
   ]
  },
  {
   "cell_type": "code",
   "execution_count": 393,
   "id": "f7f63b9d",
   "metadata": {},
   "outputs": [
    {
     "data": {
      "text/plain": [
       "torch.Size([400, 71, 512])"
      ]
     },
     "execution_count": 393,
     "metadata": {},
     "output_type": "execute_result"
    }
   ],
   "source": [
    "weights['prompt_learner.token_suffix'].shape"
   ]
  },
  {
   "cell_type": "code",
   "execution_count": 46,
   "id": "3ede5326",
   "metadata": {},
   "outputs": [],
   "source": [
    "allparameters=0\n",
    "maxs=0\n",
    "for key,value in weights.items():\n",
    "#     maxs=max(maxs,len(value.shape))\n",
    "#     print(maxs)\n",
    "    shape_num=len(value.shape)\n",
    "    if shape_num==0:\n",
    "        allparameters+=1\n",
    "    else:\n",
    "        now=1\n",
    "        for i in range(shape_num):\n",
    "            now*=value.shape[i]\n",
    "        allparameters+=now\n",
    "        "
   ]
  },
  {
   "cell_type": "code",
   "execution_count": 47,
   "id": "4c9ef37d",
   "metadata": {},
   "outputs": [
    {
     "data": {
      "text/plain": [
       "346.552577"
      ]
     },
     "execution_count": 47,
     "metadata": {},
     "output_type": "execute_result"
    }
   ],
   "source": [
    "allparameters/1000000"
   ]
  },
  {
   "cell_type": "code",
   "execution_count": 25,
   "id": "b5536278",
   "metadata": {},
   "outputs": [
    {
     "data": {
      "text/plain": [
       "True"
      ]
     },
     "execution_count": 25,
     "metadata": {},
     "output_type": "execute_result"
    }
   ],
   "source": [
    "value.size()==torch.Size([])"
   ]
  },
  {
   "cell_type": "code",
   "execution_count": 27,
   "id": "cf2408db",
   "metadata": {},
   "outputs": [
    {
     "data": {
      "text/plain": [
       "1"
      ]
     },
     "execution_count": 27,
     "metadata": {},
     "output_type": "execute_result"
    }
   ],
   "source": [
    "allparameters"
   ]
  },
  {
   "cell_type": "code",
   "execution_count": 34,
   "id": "29afc936",
   "metadata": {},
   "outputs": [
    {
     "data": {
      "text/plain": [
       "2"
      ]
     },
     "execution_count": 34,
     "metadata": {},
     "output_type": "execute_result"
    }
   ],
   "source": [
    "len(weights['visual.transformer.resblocks.0.attn.in_proj_weight'].shape)"
   ]
  },
  {
   "cell_type": "code",
   "execution_count": 388,
   "id": "06e40ac3",
   "metadata": {},
   "outputs": [
    {
     "data": {
      "text/plain": [
       "odict_keys(['logit_scale', 'visual.class_embedding', 'visual.positional_embedding', 'visual.proj', 'visual.conv1.weight', 'visual.ln_pre.weight', 'visual.ln_pre.bias', 'visual.transformer.resblocks.0.attn.in_proj_weight', 'visual.transformer.resblocks.0.attn.in_proj_bias', 'visual.transformer.resblocks.0.attn.out_proj.weight', 'visual.transformer.resblocks.0.attn.out_proj.bias', 'visual.transformer.resblocks.0.ln_1.weight', 'visual.transformer.resblocks.0.ln_1.bias', 'visual.transformer.resblocks.0.mlp.c_fc.weight', 'visual.transformer.resblocks.0.mlp.c_fc.bias', 'visual.transformer.resblocks.0.mlp.c_proj.weight', 'visual.transformer.resblocks.0.mlp.c_proj.bias', 'visual.transformer.resblocks.0.ln_2.weight', 'visual.transformer.resblocks.0.ln_2.bias', 'visual.transformer.resblocks.1.attn.in_proj_weight', 'visual.transformer.resblocks.1.attn.in_proj_bias', 'visual.transformer.resblocks.1.attn.out_proj.weight', 'visual.transformer.resblocks.1.attn.out_proj.bias', 'visual.transformer.resblocks.1.ln_1.weight', 'visual.transformer.resblocks.1.ln_1.bias', 'visual.transformer.resblocks.1.mlp.c_fc.weight', 'visual.transformer.resblocks.1.mlp.c_fc.bias', 'visual.transformer.resblocks.1.mlp.c_proj.weight', 'visual.transformer.resblocks.1.mlp.c_proj.bias', 'visual.transformer.resblocks.1.ln_2.weight', 'visual.transformer.resblocks.1.ln_2.bias', 'visual.transformer.resblocks.2.attn.in_proj_weight', 'visual.transformer.resblocks.2.attn.in_proj_bias', 'visual.transformer.resblocks.2.attn.out_proj.weight', 'visual.transformer.resblocks.2.attn.out_proj.bias', 'visual.transformer.resblocks.2.ln_1.weight', 'visual.transformer.resblocks.2.ln_1.bias', 'visual.transformer.resblocks.2.mlp.c_fc.weight', 'visual.transformer.resblocks.2.mlp.c_fc.bias', 'visual.transformer.resblocks.2.mlp.c_proj.weight', 'visual.transformer.resblocks.2.mlp.c_proj.bias', 'visual.transformer.resblocks.2.ln_2.weight', 'visual.transformer.resblocks.2.ln_2.bias', 'visual.transformer.resblocks.3.attn.in_proj_weight', 'visual.transformer.resblocks.3.attn.in_proj_bias', 'visual.transformer.resblocks.3.attn.out_proj.weight', 'visual.transformer.resblocks.3.attn.out_proj.bias', 'visual.transformer.resblocks.3.ln_1.weight', 'visual.transformer.resblocks.3.ln_1.bias', 'visual.transformer.resblocks.3.mlp.c_fc.weight', 'visual.transformer.resblocks.3.mlp.c_fc.bias', 'visual.transformer.resblocks.3.mlp.c_proj.weight', 'visual.transformer.resblocks.3.mlp.c_proj.bias', 'visual.transformer.resblocks.3.ln_2.weight', 'visual.transformer.resblocks.3.ln_2.bias', 'visual.transformer.resblocks.4.attn.in_proj_weight', 'visual.transformer.resblocks.4.attn.in_proj_bias', 'visual.transformer.resblocks.4.attn.out_proj.weight', 'visual.transformer.resblocks.4.attn.out_proj.bias', 'visual.transformer.resblocks.4.ln_1.weight', 'visual.transformer.resblocks.4.ln_1.bias', 'visual.transformer.resblocks.4.mlp.c_fc.weight', 'visual.transformer.resblocks.4.mlp.c_fc.bias', 'visual.transformer.resblocks.4.mlp.c_proj.weight', 'visual.transformer.resblocks.4.mlp.c_proj.bias', 'visual.transformer.resblocks.4.ln_2.weight', 'visual.transformer.resblocks.4.ln_2.bias', 'visual.transformer.resblocks.5.attn.in_proj_weight', 'visual.transformer.resblocks.5.attn.in_proj_bias', 'visual.transformer.resblocks.5.attn.out_proj.weight', 'visual.transformer.resblocks.5.attn.out_proj.bias', 'visual.transformer.resblocks.5.ln_1.weight', 'visual.transformer.resblocks.5.ln_1.bias', 'visual.transformer.resblocks.5.mlp.c_fc.weight', 'visual.transformer.resblocks.5.mlp.c_fc.bias', 'visual.transformer.resblocks.5.mlp.c_proj.weight', 'visual.transformer.resblocks.5.mlp.c_proj.bias', 'visual.transformer.resblocks.5.ln_2.weight', 'visual.transformer.resblocks.5.ln_2.bias', 'visual.transformer.resblocks.6.attn.in_proj_weight', 'visual.transformer.resblocks.6.attn.in_proj_bias', 'visual.transformer.resblocks.6.attn.out_proj.weight', 'visual.transformer.resblocks.6.attn.out_proj.bias', 'visual.transformer.resblocks.6.ln_1.weight', 'visual.transformer.resblocks.6.ln_1.bias', 'visual.transformer.resblocks.6.mlp.c_fc.weight', 'visual.transformer.resblocks.6.mlp.c_fc.bias', 'visual.transformer.resblocks.6.mlp.c_proj.weight', 'visual.transformer.resblocks.6.mlp.c_proj.bias', 'visual.transformer.resblocks.6.ln_2.weight', 'visual.transformer.resblocks.6.ln_2.bias', 'visual.transformer.resblocks.7.attn.in_proj_weight', 'visual.transformer.resblocks.7.attn.in_proj_bias', 'visual.transformer.resblocks.7.attn.out_proj.weight', 'visual.transformer.resblocks.7.attn.out_proj.bias', 'visual.transformer.resblocks.7.ln_1.weight', 'visual.transformer.resblocks.7.ln_1.bias', 'visual.transformer.resblocks.7.mlp.c_fc.weight', 'visual.transformer.resblocks.7.mlp.c_fc.bias', 'visual.transformer.resblocks.7.mlp.c_proj.weight', 'visual.transformer.resblocks.7.mlp.c_proj.bias', 'visual.transformer.resblocks.7.ln_2.weight', 'visual.transformer.resblocks.7.ln_2.bias', 'visual.transformer.resblocks.8.attn.in_proj_weight', 'visual.transformer.resblocks.8.attn.in_proj_bias', 'visual.transformer.resblocks.8.attn.out_proj.weight', 'visual.transformer.resblocks.8.attn.out_proj.bias', 'visual.transformer.resblocks.8.ln_1.weight', 'visual.transformer.resblocks.8.ln_1.bias', 'visual.transformer.resblocks.8.mlp.c_fc.weight', 'visual.transformer.resblocks.8.mlp.c_fc.bias', 'visual.transformer.resblocks.8.mlp.c_proj.weight', 'visual.transformer.resblocks.8.mlp.c_proj.bias', 'visual.transformer.resblocks.8.ln_2.weight', 'visual.transformer.resblocks.8.ln_2.bias', 'visual.transformer.resblocks.9.attn.in_proj_weight', 'visual.transformer.resblocks.9.attn.in_proj_bias', 'visual.transformer.resblocks.9.attn.out_proj.weight', 'visual.transformer.resblocks.9.attn.out_proj.bias', 'visual.transformer.resblocks.9.ln_1.weight', 'visual.transformer.resblocks.9.ln_1.bias', 'visual.transformer.resblocks.9.mlp.c_fc.weight', 'visual.transformer.resblocks.9.mlp.c_fc.bias', 'visual.transformer.resblocks.9.mlp.c_proj.weight', 'visual.transformer.resblocks.9.mlp.c_proj.bias', 'visual.transformer.resblocks.9.ln_2.weight', 'visual.transformer.resblocks.9.ln_2.bias', 'visual.transformer.resblocks.10.attn.in_proj_weight', 'visual.transformer.resblocks.10.attn.in_proj_bias', 'visual.transformer.resblocks.10.attn.out_proj.weight', 'visual.transformer.resblocks.10.attn.out_proj.bias', 'visual.transformer.resblocks.10.ln_1.weight', 'visual.transformer.resblocks.10.ln_1.bias', 'visual.transformer.resblocks.10.mlp.c_fc.weight', 'visual.transformer.resblocks.10.mlp.c_fc.bias', 'visual.transformer.resblocks.10.mlp.c_proj.weight', 'visual.transformer.resblocks.10.mlp.c_proj.bias', 'visual.transformer.resblocks.10.ln_2.weight', 'visual.transformer.resblocks.10.ln_2.bias', 'visual.transformer.resblocks.11.attn.in_proj_weight', 'visual.transformer.resblocks.11.attn.in_proj_bias', 'visual.transformer.resblocks.11.attn.out_proj.weight', 'visual.transformer.resblocks.11.attn.out_proj.bias', 'visual.transformer.resblocks.11.ln_1.weight', 'visual.transformer.resblocks.11.ln_1.bias', 'visual.transformer.resblocks.11.mlp.c_fc.weight', 'visual.transformer.resblocks.11.mlp.c_fc.bias', 'visual.transformer.resblocks.11.mlp.c_proj.weight', 'visual.transformer.resblocks.11.mlp.c_proj.bias', 'visual.transformer.resblocks.11.ln_2.weight', 'visual.transformer.resblocks.11.ln_2.bias', 'visual.ln_post.weight', 'visual.ln_post.bias', 'fusion_model.frame_position_embeddings.weight', 'fusion_model.transformer.resblocks.0.attn.in_proj_weight', 'fusion_model.transformer.resblocks.0.attn.in_proj_bias', 'fusion_model.transformer.resblocks.0.attn.out_proj.weight', 'fusion_model.transformer.resblocks.0.attn.out_proj.bias', 'fusion_model.transformer.resblocks.0.ln_1.weight', 'fusion_model.transformer.resblocks.0.ln_1.bias', 'fusion_model.transformer.resblocks.0.mlp.c_fc.weight', 'fusion_model.transformer.resblocks.0.mlp.c_fc.bias', 'fusion_model.transformer.resblocks.0.mlp.c_proj.weight', 'fusion_model.transformer.resblocks.0.mlp.c_proj.bias', 'fusion_model.transformer.resblocks.0.ln_2.weight', 'fusion_model.transformer.resblocks.0.ln_2.bias', 'textual.positional_embedding', 'textual.text_projection', 'textual.token_embedding.weight', 'textual.transformer.resblocks.0.attn.in_proj_weight', 'textual.transformer.resblocks.0.attn.in_proj_bias', 'textual.transformer.resblocks.0.attn.out_proj.weight', 'textual.transformer.resblocks.0.attn.out_proj.bias', 'textual.transformer.resblocks.0.ln_1.weight', 'textual.transformer.resblocks.0.ln_1.bias', 'textual.transformer.resblocks.0.mlp.c_fc.weight', 'textual.transformer.resblocks.0.mlp.c_fc.bias', 'textual.transformer.resblocks.0.mlp.c_proj.weight', 'textual.transformer.resblocks.0.mlp.c_proj.bias', 'textual.transformer.resblocks.0.ln_2.weight', 'textual.transformer.resblocks.0.ln_2.bias', 'textual.transformer.resblocks.1.attn.in_proj_weight', 'textual.transformer.resblocks.1.attn.in_proj_bias', 'textual.transformer.resblocks.1.attn.out_proj.weight', 'textual.transformer.resblocks.1.attn.out_proj.bias', 'textual.transformer.resblocks.1.ln_1.weight', 'textual.transformer.resblocks.1.ln_1.bias', 'textual.transformer.resblocks.1.mlp.c_fc.weight', 'textual.transformer.resblocks.1.mlp.c_fc.bias', 'textual.transformer.resblocks.1.mlp.c_proj.weight', 'textual.transformer.resblocks.1.mlp.c_proj.bias', 'textual.transformer.resblocks.1.ln_2.weight', 'textual.transformer.resblocks.1.ln_2.bias', 'textual.transformer.resblocks.2.attn.in_proj_weight', 'textual.transformer.resblocks.2.attn.in_proj_bias', 'textual.transformer.resblocks.2.attn.out_proj.weight', 'textual.transformer.resblocks.2.attn.out_proj.bias', 'textual.transformer.resblocks.2.ln_1.weight', 'textual.transformer.resblocks.2.ln_1.bias', 'textual.transformer.resblocks.2.mlp.c_fc.weight', 'textual.transformer.resblocks.2.mlp.c_fc.bias', 'textual.transformer.resblocks.2.mlp.c_proj.weight', 'textual.transformer.resblocks.2.mlp.c_proj.bias', 'textual.transformer.resblocks.2.ln_2.weight', 'textual.transformer.resblocks.2.ln_2.bias', 'textual.transformer.resblocks.3.attn.in_proj_weight', 'textual.transformer.resblocks.3.attn.in_proj_bias', 'textual.transformer.resblocks.3.attn.out_proj.weight', 'textual.transformer.resblocks.3.attn.out_proj.bias', 'textual.transformer.resblocks.3.ln_1.weight', 'textual.transformer.resblocks.3.ln_1.bias', 'textual.transformer.resblocks.3.mlp.c_fc.weight', 'textual.transformer.resblocks.3.mlp.c_fc.bias', 'textual.transformer.resblocks.3.mlp.c_proj.weight', 'textual.transformer.resblocks.3.mlp.c_proj.bias', 'textual.transformer.resblocks.3.ln_2.weight', 'textual.transformer.resblocks.3.ln_2.bias', 'textual.transformer.resblocks.4.attn.in_proj_weight', 'textual.transformer.resblocks.4.attn.in_proj_bias', 'textual.transformer.resblocks.4.attn.out_proj.weight', 'textual.transformer.resblocks.4.attn.out_proj.bias', 'textual.transformer.resblocks.4.ln_1.weight', 'textual.transformer.resblocks.4.ln_1.bias', 'textual.transformer.resblocks.4.mlp.c_fc.weight', 'textual.transformer.resblocks.4.mlp.c_fc.bias', 'textual.transformer.resblocks.4.mlp.c_proj.weight', 'textual.transformer.resblocks.4.mlp.c_proj.bias', 'textual.transformer.resblocks.4.ln_2.weight', 'textual.transformer.resblocks.4.ln_2.bias', 'textual.transformer.resblocks.5.attn.in_proj_weight', 'textual.transformer.resblocks.5.attn.in_proj_bias', 'textual.transformer.resblocks.5.attn.out_proj.weight', 'textual.transformer.resblocks.5.attn.out_proj.bias', 'textual.transformer.resblocks.5.ln_1.weight', 'textual.transformer.resblocks.5.ln_1.bias', 'textual.transformer.resblocks.5.mlp.c_fc.weight', 'textual.transformer.resblocks.5.mlp.c_fc.bias', 'textual.transformer.resblocks.5.mlp.c_proj.weight', 'textual.transformer.resblocks.5.mlp.c_proj.bias', 'textual.transformer.resblocks.5.ln_2.weight', 'textual.transformer.resblocks.5.ln_2.bias', 'textual.transformer.resblocks.6.attn.in_proj_weight', 'textual.transformer.resblocks.6.attn.in_proj_bias', 'textual.transformer.resblocks.6.attn.out_proj.weight', 'textual.transformer.resblocks.6.attn.out_proj.bias', 'textual.transformer.resblocks.6.ln_1.weight', 'textual.transformer.resblocks.6.ln_1.bias', 'textual.transformer.resblocks.6.mlp.c_fc.weight', 'textual.transformer.resblocks.6.mlp.c_fc.bias', 'textual.transformer.resblocks.6.mlp.c_proj.weight', 'textual.transformer.resblocks.6.mlp.c_proj.bias', 'textual.transformer.resblocks.6.ln_2.weight', 'textual.transformer.resblocks.6.ln_2.bias', 'textual.transformer.resblocks.7.attn.in_proj_weight', 'textual.transformer.resblocks.7.attn.in_proj_bias', 'textual.transformer.resblocks.7.attn.out_proj.weight', 'textual.transformer.resblocks.7.attn.out_proj.bias', 'textual.transformer.resblocks.7.ln_1.weight', 'textual.transformer.resblocks.7.ln_1.bias', 'textual.transformer.resblocks.7.mlp.c_fc.weight', 'textual.transformer.resblocks.7.mlp.c_fc.bias', 'textual.transformer.resblocks.7.mlp.c_proj.weight', 'textual.transformer.resblocks.7.mlp.c_proj.bias', 'textual.transformer.resblocks.7.ln_2.weight', 'textual.transformer.resblocks.7.ln_2.bias', 'textual.transformer.resblocks.8.attn.in_proj_weight', 'textual.transformer.resblocks.8.attn.in_proj_bias', 'textual.transformer.resblocks.8.attn.out_proj.weight', 'textual.transformer.resblocks.8.attn.out_proj.bias', 'textual.transformer.resblocks.8.ln_1.weight', 'textual.transformer.resblocks.8.ln_1.bias', 'textual.transformer.resblocks.8.mlp.c_fc.weight', 'textual.transformer.resblocks.8.mlp.c_fc.bias', 'textual.transformer.resblocks.8.mlp.c_proj.weight', 'textual.transformer.resblocks.8.mlp.c_proj.bias', 'textual.transformer.resblocks.8.ln_2.weight', 'textual.transformer.resblocks.8.ln_2.bias', 'textual.transformer.resblocks.9.attn.in_proj_weight', 'textual.transformer.resblocks.9.attn.in_proj_bias', 'textual.transformer.resblocks.9.attn.out_proj.weight', 'textual.transformer.resblocks.9.attn.out_proj.bias', 'textual.transformer.resblocks.9.ln_1.weight', 'textual.transformer.resblocks.9.ln_1.bias', 'textual.transformer.resblocks.9.mlp.c_fc.weight', 'textual.transformer.resblocks.9.mlp.c_fc.bias', 'textual.transformer.resblocks.9.mlp.c_proj.weight', 'textual.transformer.resblocks.9.mlp.c_proj.bias', 'textual.transformer.resblocks.9.ln_2.weight', 'textual.transformer.resblocks.9.ln_2.bias', 'textual.transformer.resblocks.10.attn.in_proj_weight', 'textual.transformer.resblocks.10.attn.in_proj_bias', 'textual.transformer.resblocks.10.attn.out_proj.weight', 'textual.transformer.resblocks.10.attn.out_proj.bias', 'textual.transformer.resblocks.10.ln_1.weight', 'textual.transformer.resblocks.10.ln_1.bias', 'textual.transformer.resblocks.10.mlp.c_fc.weight', 'textual.transformer.resblocks.10.mlp.c_fc.bias', 'textual.transformer.resblocks.10.mlp.c_proj.weight', 'textual.transformer.resblocks.10.mlp.c_proj.bias', 'textual.transformer.resblocks.10.ln_2.weight', 'textual.transformer.resblocks.10.ln_2.bias', 'textual.transformer.resblocks.11.attn.in_proj_weight', 'textual.transformer.resblocks.11.attn.in_proj_bias', 'textual.transformer.resblocks.11.attn.out_proj.weight', 'textual.transformer.resblocks.11.attn.out_proj.bias', 'textual.transformer.resblocks.11.ln_1.weight', 'textual.transformer.resblocks.11.ln_1.bias', 'textual.transformer.resblocks.11.mlp.c_fc.weight', 'textual.transformer.resblocks.11.mlp.c_fc.bias', 'textual.transformer.resblocks.11.mlp.c_proj.weight', 'textual.transformer.resblocks.11.mlp.c_proj.bias', 'textual.transformer.resblocks.11.ln_2.weight', 'textual.transformer.resblocks.11.ln_2.bias', 'textual.ln_final.weight', 'textual.ln_final.bias', 'prompt_learner.ctx', 'prompt_learner.token_prefix', 'prompt_learner.token_suffix'])"
      ]
     },
     "execution_count": 388,
     "metadata": {},
     "output_type": "execute_result"
    }
   ],
   "source": [
    "weights.keys()"
   ]
  },
  {
   "cell_type": "code",
   "execution_count": 240,
   "id": "f936585b",
   "metadata": {},
   "outputs": [],
   "source": [
    "a=torch.randn((2,10))"
   ]
  },
  {
   "cell_type": "code",
   "execution_count": 242,
   "id": "bac029fd",
   "metadata": {},
   "outputs": [],
   "source": [
    "a=a/a.norm(dim=-1,keepdim=True)"
   ]
  },
  {
   "cell_type": "code",
   "execution_count": 243,
   "id": "b8a4d773",
   "metadata": {},
   "outputs": [
    {
     "data": {
      "text/plain": [
       "tensor([[ 0.2386, -0.0256,  0.2499,  0.0109, -0.0549, -0.0212, -0.6811, -0.6102,\n",
       "         -0.1766,  0.0946],\n",
       "        [-0.6745, -0.1738, -0.0689,  0.5017,  0.3369, -0.0620, -0.2402,  0.0727,\n",
       "          0.2684, -0.0775]])"
      ]
     },
     "execution_count": 243,
     "metadata": {},
     "output_type": "execute_result"
    }
   ],
   "source": [
    "a"
   ]
  },
  {
   "cell_type": "code",
   "execution_count": 244,
   "id": "25e4d426",
   "metadata": {},
   "outputs": [
    {
     "data": {
      "text/plain": [
       "tensor([[ 0.2386, -0.0256,  0.2499,  0.0109, -0.0549, -0.0212, -0.6811, -0.6102,\n",
       "         -0.1766,  0.0946],\n",
       "        [-0.6745, -0.1738, -0.0689,  0.5017,  0.3369, -0.0620, -0.2402,  0.0727,\n",
       "          0.2684, -0.0775]])"
      ]
     },
     "execution_count": 244,
     "metadata": {},
     "output_type": "execute_result"
    }
   ],
   "source": [
    "a=a/a.norm(dim=-1,keepdim=True)\n",
    "a"
   ]
  },
  {
   "cell_type": "code",
   "execution_count": 100,
   "id": "68a54b37",
   "metadata": {},
   "outputs": [],
   "source": [
    "import numpy as np"
   ]
  },
  {
   "cell_type": "code",
   "execution_count": 99,
   "id": "6eab47d9",
   "metadata": {},
   "outputs": [
    {
     "ename": "NameError",
     "evalue": "name 'np' is not defined",
     "output_type": "error",
     "traceback": [
      "\u001b[0;31m---------------------------------------------------------------------------\u001b[0m",
      "\u001b[0;31mNameError\u001b[0m                                 Traceback (most recent call last)",
      "\u001b[0;32m/tmp/ipykernel_13013/4038091699.py\u001b[0m in \u001b[0;36m<module>\u001b[0;34m\u001b[0m\n\u001b[0;32m----> 1\u001b[0;31m \u001b[0mindexs\u001b[0m \u001b[0;34m=\u001b[0m \u001b[0msorted\u001b[0m\u001b[0;34m(\u001b[0m\u001b[0mnp\u001b[0m\u001b[0;34m.\u001b[0m\u001b[0mrandom\u001b[0m\u001b[0;34m.\u001b[0m\u001b[0mchoice\u001b[0m\u001b[0;34m(\u001b[0m\u001b[0;36m64\u001b[0m\u001b[0;34m,\u001b[0m \u001b[0;36m8\u001b[0m\u001b[0;34m,\u001b[0m \u001b[0mreplace\u001b[0m\u001b[0;34m=\u001b[0m\u001b[0;32mFalse\u001b[0m\u001b[0;34m)\u001b[0m\u001b[0;34m)\u001b[0m\u001b[0;34m\u001b[0m\u001b[0;34m\u001b[0m\u001b[0m\n\u001b[0m",
      "\u001b[0;31mNameError\u001b[0m: name 'np' is not defined"
     ]
    }
   ],
   "source": [
    "indexs = sorted(np.random.choice(64, 8, replace=False))"
   ]
  },
  {
   "cell_type": "code",
   "execution_count": 104,
   "id": "6b00beb2",
   "metadata": {},
   "outputs": [],
   "source": [
    "inter=65//8"
   ]
  },
  {
   "cell_type": "code",
   "execution_count": 105,
   "id": "054d5ee0",
   "metadata": {},
   "outputs": [
    {
     "data": {
      "text/plain": [
       "8"
      ]
     },
     "execution_count": 105,
     "metadata": {},
     "output_type": "execute_result"
    }
   ],
   "source": [
    "inter"
   ]
  },
  {
   "cell_type": "code",
   "execution_count": 110,
   "id": "7663061b",
   "metadata": {},
   "outputs": [
    {
     "data": {
      "text/plain": [
       "array([ 0,  8, 16, 24, 32, 40, 48, 56])"
      ]
     },
     "execution_count": 110,
     "metadata": {},
     "output_type": "execute_result"
    }
   ],
   "source": [
    "np.arange(64)[::inter][:inter]"
   ]
  },
  {
   "cell_type": "code",
   "execution_count": 112,
   "id": "d2aee76a",
   "metadata": {},
   "outputs": [],
   "source": [
    "inter=75//8\n",
    "indexs=np.arange(75)[::inter][:8]"
   ]
  },
  {
   "cell_type": "code",
   "execution_count": 113,
   "id": "1a8dcf17",
   "metadata": {},
   "outputs": [
    {
     "data": {
      "text/plain": [
       "array([ 0,  9, 18, 27, 36, 45, 54, 63])"
      ]
     },
     "execution_count": 113,
     "metadata": {},
     "output_type": "execute_result"
    }
   ],
   "source": [
    "indexs\n"
   ]
  },
  {
   "cell_type": "code",
   "execution_count": null,
   "id": "22290b00",
   "metadata": {},
   "outputs": [],
   "source": [
    "self.indices[i] for i in torch.randperm(len(sindexs))"
   ]
  },
  {
   "cell_type": "code",
   "execution_count": 213,
   "id": "acb87985",
   "metadata": {},
   "outputs": [
    {
     "data": {
      "text/plain": [
       "tensor([0, 5, 9, 7, 8, 1, 4, 2, 6, 3])"
      ]
     },
     "execution_count": 213,
     "metadata": {},
     "output_type": "execute_result"
    }
   ],
   "source": [
    "torch.randperm(10)"
   ]
  },
  {
   "cell_type": "code",
   "execution_count": 214,
   "id": "b0b5c27f",
   "metadata": {},
   "outputs": [],
   "source": [
    "indices = np.arange(64) "
   ]
  },
  {
   "cell_type": "code",
   "execution_count": 215,
   "id": "ff5866c7",
   "metadata": {},
   "outputs": [
    {
     "data": {
      "text/plain": [
       "array([ 0,  1,  2,  3,  4,  5,  6,  7,  8,  9, 10, 11, 12, 13, 14, 15, 16,\n",
       "       17, 18, 19, 20, 21, 22, 23, 24, 25, 26, 27, 28, 29, 30, 31, 32, 33,\n",
       "       34, 35, 36, 37, 38, 39, 40, 41, 42, 43, 44, 45, 46, 47, 48, 49, 50,\n",
       "       51, 52, 53, 54, 55, 56, 57, 58, 59, 60, 61, 62, 63])"
      ]
     },
     "execution_count": 215,
     "metadata": {},
     "output_type": "execute_result"
    }
   ],
   "source": [
    "indices"
   ]
  },
  {
   "cell_type": "code",
   "execution_count": 22,
   "id": "499050d7",
   "metadata": {},
   "outputs": [],
   "source": [
    "def generateMatrix( n) :\n",
    "    nums=[i for i in range(1,n**2+1)]\n",
    "    print(nums)\n",
    "\n",
    "    res=[[0]*n for _ in range(n)]\n",
    "    top,bottom,left,right=0,n-1,0,n-1\n",
    "    while top<bottom and left<right:\n",
    "        for j in range(left,right+1):\n",
    "            res[top][j]=nums.pop(0)\n",
    "        top+=1\n",
    "        for i in range(top,bottom+1):\n",
    "            res[i][right]=nums.pop(0)\n",
    "        right-=1\n",
    "        for j in range(right,left-1,-1):\n",
    "            res[bottom][j]=nums.pop(0)\n",
    "        bottom-=1\n",
    "        for i in range(bottom,top-1,-1):\n",
    "            res[i][left]=nums.pop(0)\n",
    "        left+=1\n",
    "    if n%2:\n",
    "        res[n//2][n//2]=nums.pop(0)\n",
    "    return res"
   ]
  },
  {
   "cell_type": "code",
   "execution_count": 23,
   "id": "74b0d584",
   "metadata": {},
   "outputs": [
    {
     "name": "stdout",
     "output_type": "stream",
     "text": [
      "[1, 2, 3, 4, 5, 6, 7, 8, 9, 10, 11, 12, 13, 14, 15, 16]\n"
     ]
    },
    {
     "data": {
      "text/plain": [
       "[[1, 2, 3, 4], [12, 13, 14, 5], [11, 16, 15, 6], [10, 9, 8, 7]]"
      ]
     },
     "execution_count": 23,
     "metadata": {},
     "output_type": "execute_result"
    }
   ],
   "source": [
    "generateMatrix(4)"
   ]
  },
  {
   "cell_type": "code",
   "execution_count": 24,
   "id": "75acf65f",
   "metadata": {},
   "outputs": [],
   "source": [
    "def multi1(a,n):\n",
    "    res=1\n",
    "    while n:\n",
    "        if n%2:\n",
    "            res*=a\n",
    "        a*=a\n",
    "        n//=2\n",
    "    return res"
   ]
  },
  {
   "cell_type": "code",
   "execution_count": 28,
   "id": "8d5203a3",
   "metadata": {},
   "outputs": [
    {
     "data": {
      "text/plain": [
       "8"
      ]
     },
     "execution_count": 28,
     "metadata": {},
     "output_type": "execute_result"
    }
   ],
   "source": [
    "multi1(2,3)"
   ]
  },
  {
   "cell_type": "code",
   "execution_count": 29,
   "id": "3fdbaabc",
   "metadata": {},
   "outputs": [
    {
     "data": {
      "text/plain": [
       "1"
      ]
     },
     "execution_count": 29,
     "metadata": {},
     "output_type": "execute_result"
    }
   ],
   "source": [
    "dirr={}\n",
    "dirr.setdefault(2,1)"
   ]
  },
  {
   "cell_type": "code",
   "execution_count": 30,
   "id": "ff56d9db",
   "metadata": {},
   "outputs": [
    {
     "data": {
      "text/plain": [
       "{2: 1}"
      ]
     },
     "execution_count": 30,
     "metadata": {},
     "output_type": "execute_result"
    }
   ],
   "source": [
    "dirr"
   ]
  },
  {
   "cell_type": "code",
   "execution_count": 32,
   "id": "d51c6f41",
   "metadata": {},
   "outputs": [
    {
     "data": {
      "text/plain": [
       "'abc'"
      ]
     },
     "execution_count": 32,
     "metadata": {},
     "output_type": "execute_result"
    }
   ],
   "source": [
    "''.join(sorted('acb'))"
   ]
  },
  {
   "cell_type": "code",
   "execution_count": 33,
   "id": "0e7f74fc",
   "metadata": {},
   "outputs": [],
   "source": [
    "import collections"
   ]
  },
  {
   "cell_type": "code",
   "execution_count": 39,
   "id": "47f36b4d",
   "metadata": {},
   "outputs": [],
   "source": [
    "def findAnagrams(s, p):\n",
    "    ## 暴力法\n",
    "    n, k = len(s), len(p)\n",
    "    ans = []\n",
    "    i = 0\n",
    "    curcnt, cnt = collections.Counter(s[:k]), collections.Counter(p)\n",
    "    print(curcnt,cnt)\n",
    "    while i < n-k:\n",
    "        if curcnt == cnt:\n",
    "            ans.append(i)\n",
    "        curcnt[s[i]] -= 1\n",
    "        #print(curcnt[s[i]])\n",
    "        curcnt[s[i+k]] += 1\n",
    "        print(curcnt)\n",
    "        i += 1\n",
    "    \n",
    "    if curcnt == cnt:\n",
    "        ans.append(i)\n",
    "    return ans\n",
    "\n"
   ]
  },
  {
   "cell_type": "code",
   "execution_count": 40,
   "id": "249b5ad2",
   "metadata": {},
   "outputs": [
    {
     "name": "stdout",
     "output_type": "stream",
     "text": [
      "Counter({'c': 1, 'b': 1, 'a': 1}) Counter({'a': 1, 'b': 1, 'c': 1})\n"
     ]
    },
    {
     "data": {
      "text/plain": [
       "[0]"
      ]
     },
     "execution_count": 40,
     "metadata": {},
     "output_type": "execute_result"
    }
   ],
   "source": [
    "findAnagrams('cbaebabacd','abc')"
   ]
  },
  {
   "cell_type": "code",
   "execution_count": null,
   "id": "ba2e205e",
   "metadata": {},
   "outputs": [],
   "source": []
  }
 ],
 "metadata": {
  "kernelspec": {
   "display_name": "Python 3 (ipykernel)",
   "language": "python",
   "name": "python3"
  },
  "language_info": {
   "codemirror_mode": {
    "name": "ipython",
    "version": 3
   },
   "file_extension": ".py",
   "mimetype": "text/x-python",
   "name": "python",
   "nbconvert_exporter": "python",
   "pygments_lexer": "ipython3",
   "version": "3.7.11"
  }
 },
 "nbformat": 4,
 "nbformat_minor": 5
}
